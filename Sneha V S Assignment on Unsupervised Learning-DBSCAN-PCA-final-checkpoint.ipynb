{
 "cells": [
  {
   "cell_type": "code",
   "execution_count": 1,
   "id": "8f809fa6",
   "metadata": {},
   "outputs": [],
   "source": [
    "# importing libraries\n",
    "import pandas as pd\n",
    "import numpy as np\n",
    "import matplotlib.pyplot as plt\n",
    "import seaborn as sns"
   ]
  },
  {
   "cell_type": "code",
   "execution_count": 2,
   "id": "c9a4b9ee",
   "metadata": {},
   "outputs": [],
   "source": [
    "# Reading data set\n",
    "adrs=\"D:/DSAICT/Github/Unsupervised learning/Wine_clust.csv\"\n",
    "data=pd.read_csv(adrs)"
   ]
  },
  {
   "cell_type": "code",
   "execution_count": 3,
   "id": "0b09c542",
   "metadata": {},
   "outputs": [
    {
     "data": {
      "text/html": [
       "<div>\n",
       "<style scoped>\n",
       "    .dataframe tbody tr th:only-of-type {\n",
       "        vertical-align: middle;\n",
       "    }\n",
       "\n",
       "    .dataframe tbody tr th {\n",
       "        vertical-align: top;\n",
       "    }\n",
       "\n",
       "    .dataframe thead th {\n",
       "        text-align: right;\n",
       "    }\n",
       "</style>\n",
       "<table border=\"1\" class=\"dataframe\">\n",
       "  <thead>\n",
       "    <tr style=\"text-align: right;\">\n",
       "      <th></th>\n",
       "      <th>Alcohol</th>\n",
       "      <th>Malic_Acid</th>\n",
       "      <th>Ash</th>\n",
       "      <th>Ash_Alcanity</th>\n",
       "      <th>Magnesium</th>\n",
       "      <th>Total_Phenols</th>\n",
       "      <th>Flavanoids</th>\n",
       "      <th>Nonflavanoid_Phenols</th>\n",
       "      <th>Proanthocyanins</th>\n",
       "      <th>Color_Intensity</th>\n",
       "      <th>Hue</th>\n",
       "      <th>OD280</th>\n",
       "      <th>Proline</th>\n",
       "    </tr>\n",
       "  </thead>\n",
       "  <tbody>\n",
       "    <tr>\n",
       "      <th>0</th>\n",
       "      <td>14.23</td>\n",
       "      <td>1.71</td>\n",
       "      <td>2.43</td>\n",
       "      <td>15.6</td>\n",
       "      <td>127</td>\n",
       "      <td>2.80</td>\n",
       "      <td>3.06</td>\n",
       "      <td>0.28</td>\n",
       "      <td>2.29</td>\n",
       "      <td>5.64</td>\n",
       "      <td>1.04</td>\n",
       "      <td>3.92</td>\n",
       "      <td>1065</td>\n",
       "    </tr>\n",
       "    <tr>\n",
       "      <th>1</th>\n",
       "      <td>13.20</td>\n",
       "      <td>1.78</td>\n",
       "      <td>2.14</td>\n",
       "      <td>11.2</td>\n",
       "      <td>100</td>\n",
       "      <td>2.65</td>\n",
       "      <td>2.76</td>\n",
       "      <td>0.26</td>\n",
       "      <td>1.28</td>\n",
       "      <td>4.38</td>\n",
       "      <td>1.05</td>\n",
       "      <td>3.40</td>\n",
       "      <td>1050</td>\n",
       "    </tr>\n",
       "    <tr>\n",
       "      <th>2</th>\n",
       "      <td>13.16</td>\n",
       "      <td>2.36</td>\n",
       "      <td>2.67</td>\n",
       "      <td>18.6</td>\n",
       "      <td>101</td>\n",
       "      <td>2.80</td>\n",
       "      <td>3.24</td>\n",
       "      <td>0.30</td>\n",
       "      <td>2.81</td>\n",
       "      <td>5.68</td>\n",
       "      <td>1.03</td>\n",
       "      <td>3.17</td>\n",
       "      <td>1185</td>\n",
       "    </tr>\n",
       "    <tr>\n",
       "      <th>3</th>\n",
       "      <td>14.37</td>\n",
       "      <td>1.95</td>\n",
       "      <td>2.50</td>\n",
       "      <td>16.8</td>\n",
       "      <td>113</td>\n",
       "      <td>3.85</td>\n",
       "      <td>3.49</td>\n",
       "      <td>0.24</td>\n",
       "      <td>2.18</td>\n",
       "      <td>7.80</td>\n",
       "      <td>0.86</td>\n",
       "      <td>3.45</td>\n",
       "      <td>1480</td>\n",
       "    </tr>\n",
       "    <tr>\n",
       "      <th>4</th>\n",
       "      <td>13.24</td>\n",
       "      <td>2.59</td>\n",
       "      <td>2.87</td>\n",
       "      <td>21.0</td>\n",
       "      <td>118</td>\n",
       "      <td>2.80</td>\n",
       "      <td>2.69</td>\n",
       "      <td>0.39</td>\n",
       "      <td>1.82</td>\n",
       "      <td>4.32</td>\n",
       "      <td>1.04</td>\n",
       "      <td>2.93</td>\n",
       "      <td>735</td>\n",
       "    </tr>\n",
       "  </tbody>\n",
       "</table>\n",
       "</div>"
      ],
      "text/plain": [
       "   Alcohol  Malic_Acid   Ash  Ash_Alcanity  Magnesium  Total_Phenols  \\\n",
       "0    14.23        1.71  2.43          15.6        127           2.80   \n",
       "1    13.20        1.78  2.14          11.2        100           2.65   \n",
       "2    13.16        2.36  2.67          18.6        101           2.80   \n",
       "3    14.37        1.95  2.50          16.8        113           3.85   \n",
       "4    13.24        2.59  2.87          21.0        118           2.80   \n",
       "\n",
       "   Flavanoids  Nonflavanoid_Phenols  Proanthocyanins  Color_Intensity   Hue  \\\n",
       "0        3.06                  0.28             2.29             5.64  1.04   \n",
       "1        2.76                  0.26             1.28             4.38  1.05   \n",
       "2        3.24                  0.30             2.81             5.68  1.03   \n",
       "3        3.49                  0.24             2.18             7.80  0.86   \n",
       "4        2.69                  0.39             1.82             4.32  1.04   \n",
       "\n",
       "   OD280  Proline  \n",
       "0   3.92     1065  \n",
       "1   3.40     1050  \n",
       "2   3.17     1185  \n",
       "3   3.45     1480  \n",
       "4   2.93      735  "
      ]
     },
     "execution_count": 3,
     "metadata": {},
     "output_type": "execute_result"
    }
   ],
   "source": [
    "#viewing dataset\n",
    "data.head()"
   ]
  },
  {
   "cell_type": "markdown",
   "id": "b8488070",
   "metadata": {},
   "source": [
    "### Basic analysis of dataset"
   ]
  },
  {
   "cell_type": "code",
   "execution_count": 4,
   "id": "658cbb96",
   "metadata": {},
   "outputs": [
    {
     "data": {
      "text/plain": [
       "(178, 13)"
      ]
     },
     "execution_count": 4,
     "metadata": {},
     "output_type": "execute_result"
    }
   ],
   "source": [
    "data.shape"
   ]
  },
  {
   "cell_type": "code",
   "execution_count": 5,
   "id": "e867d83c",
   "metadata": {},
   "outputs": [
    {
     "name": "stdout",
     "output_type": "stream",
     "text": [
      "<class 'pandas.core.frame.DataFrame'>\n",
      "RangeIndex: 178 entries, 0 to 177\n",
      "Data columns (total 13 columns):\n",
      " #   Column                Non-Null Count  Dtype  \n",
      "---  ------                --------------  -----  \n",
      " 0   Alcohol               178 non-null    float64\n",
      " 1   Malic_Acid            178 non-null    float64\n",
      " 2   Ash                   178 non-null    float64\n",
      " 3   Ash_Alcanity          178 non-null    float64\n",
      " 4   Magnesium             178 non-null    int64  \n",
      " 5   Total_Phenols         178 non-null    float64\n",
      " 6   Flavanoids            178 non-null    float64\n",
      " 7   Nonflavanoid_Phenols  178 non-null    float64\n",
      " 8   Proanthocyanins       178 non-null    float64\n",
      " 9   Color_Intensity       178 non-null    float64\n",
      " 10  Hue                   178 non-null    float64\n",
      " 11  OD280                 178 non-null    float64\n",
      " 12  Proline               178 non-null    int64  \n",
      "dtypes: float64(11), int64(2)\n",
      "memory usage: 18.2 KB\n"
     ]
    }
   ],
   "source": [
    "data.info()"
   ]
  },
  {
   "cell_type": "code",
   "execution_count": 6,
   "id": "75c979c0",
   "metadata": {},
   "outputs": [
    {
     "data": {
      "text/plain": [
       "Alcohol                 0\n",
       "Malic_Acid              0\n",
       "Ash                     0\n",
       "Ash_Alcanity            0\n",
       "Magnesium               0\n",
       "Total_Phenols           0\n",
       "Flavanoids              0\n",
       "Nonflavanoid_Phenols    0\n",
       "Proanthocyanins         0\n",
       "Color_Intensity         0\n",
       "Hue                     0\n",
       "OD280                   0\n",
       "Proline                 0\n",
       "dtype: int64"
      ]
     },
     "execution_count": 6,
     "metadata": {},
     "output_type": "execute_result"
    }
   ],
   "source": [
    "data.isnull().sum()"
   ]
  },
  {
   "cell_type": "code",
   "execution_count": 7,
   "id": "01b99990",
   "metadata": {},
   "outputs": [
    {
     "data": {
      "text/plain": [
       "Alcohol                 126\n",
       "Malic_Acid              133\n",
       "Ash                      79\n",
       "Ash_Alcanity             63\n",
       "Magnesium                53\n",
       "Total_Phenols            97\n",
       "Flavanoids              132\n",
       "Nonflavanoid_Phenols     39\n",
       "Proanthocyanins         101\n",
       "Color_Intensity         132\n",
       "Hue                      78\n",
       "OD280                   122\n",
       "Proline                 121\n",
       "dtype: int64"
      ]
     },
     "execution_count": 7,
     "metadata": {},
     "output_type": "execute_result"
    }
   ],
   "source": [
    "data.nunique()"
   ]
  },
  {
   "cell_type": "code",
   "execution_count": 8,
   "id": "421c8800",
   "metadata": {},
   "outputs": [
    {
     "data": {
      "text/html": [
       "<div>\n",
       "<style scoped>\n",
       "    .dataframe tbody tr th:only-of-type {\n",
       "        vertical-align: middle;\n",
       "    }\n",
       "\n",
       "    .dataframe tbody tr th {\n",
       "        vertical-align: top;\n",
       "    }\n",
       "\n",
       "    .dataframe thead th {\n",
       "        text-align: right;\n",
       "    }\n",
       "</style>\n",
       "<table border=\"1\" class=\"dataframe\">\n",
       "  <thead>\n",
       "    <tr style=\"text-align: right;\">\n",
       "      <th></th>\n",
       "      <th>Alcohol</th>\n",
       "      <th>Malic_Acid</th>\n",
       "      <th>Ash</th>\n",
       "      <th>Ash_Alcanity</th>\n",
       "      <th>Magnesium</th>\n",
       "      <th>Total_Phenols</th>\n",
       "      <th>Flavanoids</th>\n",
       "      <th>Nonflavanoid_Phenols</th>\n",
       "      <th>Proanthocyanins</th>\n",
       "      <th>Color_Intensity</th>\n",
       "      <th>Hue</th>\n",
       "      <th>OD280</th>\n",
       "      <th>Proline</th>\n",
       "    </tr>\n",
       "  </thead>\n",
       "  <tbody>\n",
       "    <tr>\n",
       "      <th>count</th>\n",
       "      <td>178.000000</td>\n",
       "      <td>178.000000</td>\n",
       "      <td>178.000000</td>\n",
       "      <td>178.000000</td>\n",
       "      <td>178.000000</td>\n",
       "      <td>178.000000</td>\n",
       "      <td>178.000000</td>\n",
       "      <td>178.000000</td>\n",
       "      <td>178.000000</td>\n",
       "      <td>178.000000</td>\n",
       "      <td>178.000000</td>\n",
       "      <td>178.000000</td>\n",
       "      <td>178.000000</td>\n",
       "    </tr>\n",
       "    <tr>\n",
       "      <th>mean</th>\n",
       "      <td>13.000618</td>\n",
       "      <td>2.336348</td>\n",
       "      <td>2.366517</td>\n",
       "      <td>19.494944</td>\n",
       "      <td>99.741573</td>\n",
       "      <td>2.295112</td>\n",
       "      <td>2.029270</td>\n",
       "      <td>0.361854</td>\n",
       "      <td>1.590899</td>\n",
       "      <td>5.058090</td>\n",
       "      <td>0.957449</td>\n",
       "      <td>2.611685</td>\n",
       "      <td>746.893258</td>\n",
       "    </tr>\n",
       "    <tr>\n",
       "      <th>std</th>\n",
       "      <td>0.811827</td>\n",
       "      <td>1.117146</td>\n",
       "      <td>0.274344</td>\n",
       "      <td>3.339564</td>\n",
       "      <td>14.282484</td>\n",
       "      <td>0.625851</td>\n",
       "      <td>0.998859</td>\n",
       "      <td>0.124453</td>\n",
       "      <td>0.572359</td>\n",
       "      <td>2.318286</td>\n",
       "      <td>0.228572</td>\n",
       "      <td>0.709990</td>\n",
       "      <td>314.907474</td>\n",
       "    </tr>\n",
       "    <tr>\n",
       "      <th>min</th>\n",
       "      <td>11.030000</td>\n",
       "      <td>0.740000</td>\n",
       "      <td>1.360000</td>\n",
       "      <td>10.600000</td>\n",
       "      <td>70.000000</td>\n",
       "      <td>0.980000</td>\n",
       "      <td>0.340000</td>\n",
       "      <td>0.130000</td>\n",
       "      <td>0.410000</td>\n",
       "      <td>1.280000</td>\n",
       "      <td>0.480000</td>\n",
       "      <td>1.270000</td>\n",
       "      <td>278.000000</td>\n",
       "    </tr>\n",
       "    <tr>\n",
       "      <th>25%</th>\n",
       "      <td>12.362500</td>\n",
       "      <td>1.602500</td>\n",
       "      <td>2.210000</td>\n",
       "      <td>17.200000</td>\n",
       "      <td>88.000000</td>\n",
       "      <td>1.742500</td>\n",
       "      <td>1.205000</td>\n",
       "      <td>0.270000</td>\n",
       "      <td>1.250000</td>\n",
       "      <td>3.220000</td>\n",
       "      <td>0.782500</td>\n",
       "      <td>1.937500</td>\n",
       "      <td>500.500000</td>\n",
       "    </tr>\n",
       "    <tr>\n",
       "      <th>50%</th>\n",
       "      <td>13.050000</td>\n",
       "      <td>1.865000</td>\n",
       "      <td>2.360000</td>\n",
       "      <td>19.500000</td>\n",
       "      <td>98.000000</td>\n",
       "      <td>2.355000</td>\n",
       "      <td>2.135000</td>\n",
       "      <td>0.340000</td>\n",
       "      <td>1.555000</td>\n",
       "      <td>4.690000</td>\n",
       "      <td>0.965000</td>\n",
       "      <td>2.780000</td>\n",
       "      <td>673.500000</td>\n",
       "    </tr>\n",
       "    <tr>\n",
       "      <th>75%</th>\n",
       "      <td>13.677500</td>\n",
       "      <td>3.082500</td>\n",
       "      <td>2.557500</td>\n",
       "      <td>21.500000</td>\n",
       "      <td>107.000000</td>\n",
       "      <td>2.800000</td>\n",
       "      <td>2.875000</td>\n",
       "      <td>0.437500</td>\n",
       "      <td>1.950000</td>\n",
       "      <td>6.200000</td>\n",
       "      <td>1.120000</td>\n",
       "      <td>3.170000</td>\n",
       "      <td>985.000000</td>\n",
       "    </tr>\n",
       "    <tr>\n",
       "      <th>max</th>\n",
       "      <td>14.830000</td>\n",
       "      <td>5.800000</td>\n",
       "      <td>3.230000</td>\n",
       "      <td>30.000000</td>\n",
       "      <td>162.000000</td>\n",
       "      <td>3.880000</td>\n",
       "      <td>5.080000</td>\n",
       "      <td>0.660000</td>\n",
       "      <td>3.580000</td>\n",
       "      <td>13.000000</td>\n",
       "      <td>1.710000</td>\n",
       "      <td>4.000000</td>\n",
       "      <td>1680.000000</td>\n",
       "    </tr>\n",
       "  </tbody>\n",
       "</table>\n",
       "</div>"
      ],
      "text/plain": [
       "          Alcohol  Malic_Acid         Ash  Ash_Alcanity   Magnesium  \\\n",
       "count  178.000000  178.000000  178.000000    178.000000  178.000000   \n",
       "mean    13.000618    2.336348    2.366517     19.494944   99.741573   \n",
       "std      0.811827    1.117146    0.274344      3.339564   14.282484   \n",
       "min     11.030000    0.740000    1.360000     10.600000   70.000000   \n",
       "25%     12.362500    1.602500    2.210000     17.200000   88.000000   \n",
       "50%     13.050000    1.865000    2.360000     19.500000   98.000000   \n",
       "75%     13.677500    3.082500    2.557500     21.500000  107.000000   \n",
       "max     14.830000    5.800000    3.230000     30.000000  162.000000   \n",
       "\n",
       "       Total_Phenols  Flavanoids  Nonflavanoid_Phenols  Proanthocyanins  \\\n",
       "count     178.000000  178.000000            178.000000       178.000000   \n",
       "mean        2.295112    2.029270              0.361854         1.590899   \n",
       "std         0.625851    0.998859              0.124453         0.572359   \n",
       "min         0.980000    0.340000              0.130000         0.410000   \n",
       "25%         1.742500    1.205000              0.270000         1.250000   \n",
       "50%         2.355000    2.135000              0.340000         1.555000   \n",
       "75%         2.800000    2.875000              0.437500         1.950000   \n",
       "max         3.880000    5.080000              0.660000         3.580000   \n",
       "\n",
       "       Color_Intensity         Hue       OD280      Proline  \n",
       "count       178.000000  178.000000  178.000000   178.000000  \n",
       "mean          5.058090    0.957449    2.611685   746.893258  \n",
       "std           2.318286    0.228572    0.709990   314.907474  \n",
       "min           1.280000    0.480000    1.270000   278.000000  \n",
       "25%           3.220000    0.782500    1.937500   500.500000  \n",
       "50%           4.690000    0.965000    2.780000   673.500000  \n",
       "75%           6.200000    1.120000    3.170000   985.000000  \n",
       "max          13.000000    1.710000    4.000000  1680.000000  "
      ]
     },
     "execution_count": 8,
     "metadata": {},
     "output_type": "execute_result"
    }
   ],
   "source": [
    "data.describe()"
   ]
  },
  {
   "cell_type": "markdown",
   "id": "245bb07e",
   "metadata": {},
   "source": [
    "## K Means  Clustering"
   ]
  },
  {
   "cell_type": "code",
   "execution_count": 9,
   "id": "72852629",
   "metadata": {},
   "outputs": [],
   "source": [
    "# importing K Means\n",
    "from sklearn.cluster import KMeans"
   ]
  },
  {
   "cell_type": "code",
   "execution_count": 10,
   "id": "bbe6d481",
   "metadata": {},
   "outputs": [
    {
     "name": "stderr",
     "output_type": "stream",
     "text": [
      "c:\\Anaconda\\lib\\site-packages\\sklearn\\cluster\\_kmeans.py:1036: UserWarning: KMeans is known to have a memory leak on Windows with MKL, when there are less chunks than available threads. You can avoid it by setting the environment variable OMP_NUM_THREADS=1.\n",
      "  warnings.warn(\n"
     ]
    },
    {
     "data": {
      "image/png": "[encoded data removed]",
      "text/plain": [
       "<Figure size 640x480 with 1 Axes>"
      ]
     },
     "metadata": {},
     "output_type": "display_data"
    }
   ],
   "source": [
    "# Choosing number of clusters using elbow method\n",
    "wcss=[]\n",
    "for i in range(1,14):\n",
    "    kmeans=KMeans(n_clusters=i,init='k-means++',random_state=42)\n",
    "    kmeans.fit(data)\n",
    "    wcss.append(kmeans.inertia_)\n",
    "plt.plot(range(1,14),wcss)\n",
    "plt.title('Elbow method')\n",
    "plt.xlabel('No.of Clusters')\n",
    "plt.ylabel('wcss value');"
   ]
  },
  {
   "cell_type": "markdown",
   "id": "5e7af733",
   "metadata": {},
   "source": [
    "The number of clusters can be 2 or 3, can fianlise one among them after comparing silhouette score."
   ]
  },
  {
   "cell_type": "code",
   "execution_count": 11,
   "id": "9ad48871",
   "metadata": {},
   "outputs": [],
   "source": [
    "# importing silhouette score\n",
    "from sklearn.metrics import silhouette_score"
   ]
  },
  {
   "cell_type": "code",
   "execution_count": 12,
   "id": "b06098d8",
   "metadata": {},
   "outputs": [
    {
     "name": "stdout",
     "output_type": "stream",
     "text": [
      "The silhouette score for K Means cluster model for 2 clusters is: 0.6568536504294317\n"
     ]
    }
   ],
   "source": [
    "# Silhouette score for 2 clusters\n",
    "kmeans=KMeans(n_clusters=2,init='k-means++',random_state=42)\n",
    "y_kmean1=kmeans.fit_predict(data)\n",
    "silavg1=silhouette_score(data,y_kmean1)\n",
    "print('The silhouette score for K Means cluster model for 2 clusters is:',silavg1)"
   ]
  },
  {
   "cell_type": "code",
   "execution_count": 13,
   "id": "73c1f3fb",
   "metadata": {},
   "outputs": [
    {
     "name": "stdout",
     "output_type": "stream",
     "text": [
      "The silhouette score for K Means cluster model for 3 clusters is: 0.571138193786884\n"
     ]
    }
   ],
   "source": [
    "# Silhouette score for 3 clusters\n",
    "kmeans=KMeans(n_clusters=3,init='k-means++',random_state=42)\n",
    "y_kmean2=kmeans.fit_predict(data)\n",
    "silavg2=silhouette_score(data,y_kmean2)\n",
    "print('The silhouette score for K Means cluster model for 3 clusters is:',silavg2)"
   ]
  },
  {
   "cell_type": "markdown",
   "id": "0e68daad",
   "metadata": {},
   "source": [
    "#### Silhouette score for 2 clusters is more than that for 3 . So we can fix number of clusters as 2 without any doubt for K Means clustering, without scaling and outlier handling."
   ]
  },
  {
   "cell_type": "markdown",
   "id": "adc9fef0",
   "metadata": {},
   "source": [
    "## Agglomerative Hierarchial Clustering"
   ]
  },
  {
   "cell_type": "code",
   "execution_count": 14,
   "id": "44e5bf80",
   "metadata": {},
   "outputs": [],
   "source": [
    "# Dendrogram\n",
    "import scipy.cluster.hierarchy as sch"
   ]
  },
  {
   "cell_type": "code",
   "execution_count": 15,
   "id": "fec57733",
   "metadata": {},
   "outputs": [
    {
     "data": {
      "image/png": "[encoded data removed]",
      "text/plain": [
       "<Figure size 640x480 with 1 Axes>"
      ]
     },
     "metadata": {},
     "output_type": "display_data"
    }
   ],
   "source": [
    "# To find optimum number of clusters\n",
    "dendrogram=sch.dendrogram(sch.linkage(data,method='ward'))\n",
    "plt.title('Dendrogram')\n",
    "plt.xlabel('Data points')\n",
    "plt.ylabel('Euclidean distance');"
   ]
  },
  {
   "cell_type": "markdown",
   "id": "dcebff62",
   "metadata": {},
   "source": [
    "From dendrogram we get that the optimum number of clusters is two."
   ]
  },
  {
   "cell_type": "code",
   "execution_count": 16,
   "id": "10489371",
   "metadata": {},
   "outputs": [],
   "source": [
    "# importing AHC\n",
    "from sklearn.cluster import AgglomerativeClustering"
   ]
  },
  {
   "cell_type": "code",
   "execution_count": 17,
   "id": "7e2cb33f",
   "metadata": {},
   "outputs": [
    {
     "data": {
      "text/plain": [
       "array([1, 1, 1, 1, 0, 1, 1, 1, 1, 1, 1, 1, 1, 1, 1, 1, 1, 1, 1, 0, 0, 0,\n",
       "       1, 1, 0, 0, 1, 1, 0, 1, 1, 1, 1, 1, 1, 0, 0, 1, 1, 0, 0, 1, 1, 0,\n",
       "       0, 1, 1, 1, 1, 1, 1, 1, 1, 1, 1, 1, 1, 1, 1, 0, 0, 0, 0, 0, 0, 0,\n",
       "       0, 0, 0, 0, 0, 0, 0, 1, 0, 0, 0, 0, 0, 0, 0, 0, 0, 0, 0, 0, 0, 0,\n",
       "       0, 0, 0, 0, 0, 0, 0, 1, 0, 0, 0, 0, 0, 0, 0, 0, 0, 0, 0, 0, 0, 0,\n",
       "       0, 0, 0, 0, 0, 0, 0, 0, 0, 0, 0, 0, 0, 0, 0, 0, 0, 0, 0, 0, 0, 0,\n",
       "       0, 0, 0, 0, 0, 0, 0, 0, 0, 0, 0, 0, 0, 0, 0, 0, 0, 0, 0, 0, 0, 0,\n",
       "       0, 0, 0, 0, 0, 0, 0, 0, 0, 0, 0, 0, 0, 0, 0, 0, 0, 0, 0, 0, 0, 0,\n",
       "       0, 0], dtype=int64)"
      ]
     },
     "execution_count": 17,
     "metadata": {},
     "output_type": "execute_result"
    }
   ],
   "source": [
    "# Model creation\n",
    "hc=AgglomerativeClustering(n_clusters=2,affinity='euclidean',linkage='ward')\n",
    "yhc=hc.fit_predict(data)\n",
    "yhc"
   ]
  },
  {
   "cell_type": "code",
   "execution_count": 18,
   "id": "2deafd4e",
   "metadata": {},
   "outputs": [
    {
     "name": "stdout",
     "output_type": "stream",
     "text": [
      "The silhoutette score for Agglomerative Hierarchial Clustering for 2 clusters is: 0.6587292996216912\n"
     ]
    }
   ],
   "source": [
    "# Silhouette score\n",
    "silavg4=silhouette_score(data,yhc)\n",
    "print('The silhoutette score for Agglomerative Hierarchial Clustering for 2 clusters is:',silavg4)"
   ]
  },
  {
   "cell_type": "markdown",
   "id": "da75ede5",
   "metadata": {},
   "source": [
    "## DBSCAN clustering"
   ]
  },
  {
   "cell_type": "code",
   "execution_count": 19,
   "id": "19ee7827",
   "metadata": {},
   "outputs": [],
   "source": [
    "# importing DBSCAN\n",
    "from sklearn.cluster import DBSCAN"
   ]
  },
  {
   "cell_type": "markdown",
   "id": "a52c76d5",
   "metadata": {},
   "source": [
    "### To determine epsilon"
   ]
  },
  {
   "cell_type": "code",
   "execution_count": 20,
   "id": "64bfa00a",
   "metadata": {},
   "outputs": [],
   "source": [
    "from sklearn.neighbors import NearestNeighbors"
   ]
  },
  {
   "cell_type": "code",
   "execution_count": 21,
   "id": "e22acf65",
   "metadata": {},
   "outputs": [],
   "source": [
    "k=3\n",
    "nn=NearestNeighbors(n_neighbors=k)\n",
    "nbrs1=nn.fit(data)\n",
    "dstnc,ind = nbrs1.kneighbors(data)"
   ]
  },
  {
   "cell_type": "code",
   "execution_count": 22,
   "id": "d058a4eb",
   "metadata": {},
   "outputs": [
    {
     "data": {
      "image/png": "[encoded data removed]",
      "text/plain": [
       "<Figure size 640x480 with 1 Axes>"
      ]
     },
     "metadata": {},
     "output_type": "display_data"
    }
   ],
   "source": [
    "dstnc=np.sort(dstnc,axis=0)[:,1]\n",
    "plt.plot(dstnc)\n",
    "plt.grid()\n",
    "plt.title('K-distance Graph',fontsize=20)\n",
    "plt.xlabel('Data Points sorted by distance',fontsize=14)\n",
    "plt.ylabel('Epsilon',fontsize=14)\n",
    "plt.axhline(y=30,color='red',ls='--');"
   ]
  },
  {
   "cell_type": "markdown",
   "id": "1d55ade5",
   "metadata": {},
   "source": [
    "From the K-distance graph the eps value is 30."
   ]
  },
  {
   "cell_type": "markdown",
   "id": "29f330ea",
   "metadata": {},
   "source": [
    "### Fit the model"
   ]
  },
  {
   "cell_type": "code",
   "execution_count": 23,
   "id": "37278807",
   "metadata": {},
   "outputs": [],
   "source": [
    "# importing DBSCAN\n",
    "from sklearn.cluster import DBSCAN"
   ]
  },
  {
   "cell_type": "markdown",
   "id": "ca577a71",
   "metadata": {},
   "source": [
    "Chose min_samples 14, as for values greater than that i got an error."
   ]
  },
  {
   "cell_type": "code",
   "execution_count": 24,
   "id": "72a5c992",
   "metadata": {},
   "outputs": [
    {
     "name": "stdout",
     "output_type": "stream",
     "text": [
      "The silhouette score for DBSCAN(eps=30, min_samples=14) is 0.16474133840253946\n"
     ]
    }
   ],
   "source": [
    "#  Model creation and Checking the silhouette score\n",
    "db1=DBSCAN(eps=30,min_samples=14)\n",
    "db1.fit(data)\n",
    "l1=db1.labels_\n",
    "sil_avg1=silhouette_score(data,l1) \n",
    "print('The silhouette score for',db1.fit(data), 'is', sil_avg1)"
   ]
  },
  {
   "cell_type": "code",
   "execution_count": 25,
   "id": "d56f240a",
   "metadata": {},
   "outputs": [
    {
     "name": "stdout",
     "output_type": "stream",
     "text": [
      "The silhouette score for DBSCAN(eps=40, min_samples=14) is 0.5444691154003343\n"
     ]
    }
   ],
   "source": [
    "#  Model creation and Checking the silhouette score\n",
    "db2=DBSCAN(eps=40,min_samples=14)\n",
    "db2.fit(data)\n",
    "l2=db2.labels_\n",
    "sil_avg2=silhouette_score(data,l2)\n",
    "print('The silhouette score for',db2.fit(data), 'is',sil_avg2)"
   ]
  },
  {
   "cell_type": "code",
   "execution_count": 26,
   "id": "389a6eef",
   "metadata": {},
   "outputs": [
    {
     "name": "stdout",
     "output_type": "stream",
     "text": [
      "The silhouette score for DBSCAN(eps=20, min_samples=13) is -0.25316872633054155\n"
     ]
    }
   ],
   "source": [
    "#  Model creation and Checking the silhouette score\n",
    "db3=DBSCAN(eps=20,min_samples=13)\n",
    "db3.fit(data)\n",
    "l3=db3.labels_\n",
    "sil_avg3=silhouette_score(data,l3)\n",
    "print('The silhouette score for',db3.fit(data), 'is',sil_avg3)"
   ]
  },
  {
   "cell_type": "markdown",
   "id": "27a3c3a7",
   "metadata": {},
   "source": [
    "#### For the DBSCAN model tried for different values of epsilon, 40 gives the maximum silhouette score."
   ]
  },
  {
   "cell_type": "code",
   "execution_count": 27,
   "id": "3f2fdb73",
   "metadata": {},
   "outputs": [
    {
     "name": "stdout",
     "output_type": "stream",
     "text": [
      "The number of clusters for DBSCAN(eps=40, min_samples=14) is 1\n"
     ]
    }
   ],
   "source": [
    "n_clusters_ = len(set(l2)) - (1 if -1 in l2 else 0)\n",
    "print('The number of clusters for',db2.fit(data),'is',n_clusters_)"
   ]
  },
  {
   "cell_type": "code",
   "execution_count": 28,
   "id": "8e683234",
   "metadata": {},
   "outputs": [
    {
     "name": "stdout",
     "output_type": "stream",
     "text": [
      "The number of noise for DBSCAN(eps=40, min_samples=14) is 76\n"
     ]
    }
   ],
   "source": [
    "n_noise_ = list(l2).count(-1)\n",
    "print('The number of noise for',db2.fit(data),'is',n_noise_)"
   ]
  },
  {
   "cell_type": "markdown",
   "id": "fa28a02f",
   "metadata": {},
   "source": [
    "## Scaling Proline and Magnesium column "
   ]
  },
  {
   "cell_type": "code",
   "execution_count": 29,
   "id": "09c48a14",
   "metadata": {},
   "outputs": [],
   "source": [
    "# importing preprocessing library\n",
    "from sklearn import preprocessing"
   ]
  },
  {
   "cell_type": "code",
   "execution_count": 30,
   "id": "b2839528",
   "metadata": {},
   "outputs": [],
   "source": [
    "x=data.drop(['Alcohol', 'Malic_Acid', 'Ash', 'Ash_Alcanity','Total_Phenols', 'Flavanoids', 'Nonflavanoid_Phenols','Proanthocyanins', 'Color_Intensity', 'Hue', 'OD280'],axis=1)\n"
   ]
  },
  {
   "cell_type": "code",
   "execution_count": 31,
   "id": "516f846c",
   "metadata": {},
   "outputs": [
    {
     "data": {
      "text/html": [
       "<div>\n",
       "<style scoped>\n",
       "    .dataframe tbody tr th:only-of-type {\n",
       "        vertical-align: middle;\n",
       "    }\n",
       "\n",
       "    .dataframe tbody tr th {\n",
       "        vertical-align: top;\n",
       "    }\n",
       "\n",
       "    .dataframe thead th {\n",
       "        text-align: right;\n",
       "    }\n",
       "</style>\n",
       "<table border=\"1\" class=\"dataframe\">\n",
       "  <thead>\n",
       "    <tr style=\"text-align: right;\">\n",
       "      <th></th>\n",
       "      <th>Magnesium</th>\n",
       "      <th>Proline</th>\n",
       "    </tr>\n",
       "  </thead>\n",
       "  <tbody>\n",
       "    <tr>\n",
       "      <th>0</th>\n",
       "      <td>12.391304</td>\n",
       "      <td>11.226819</td>\n",
       "    </tr>\n",
       "    <tr>\n",
       "      <th>1</th>\n",
       "      <td>6.521739</td>\n",
       "      <td>11.012839</td>\n",
       "    </tr>\n",
       "    <tr>\n",
       "      <th>2</th>\n",
       "      <td>6.739130</td>\n",
       "      <td>12.938659</td>\n",
       "    </tr>\n",
       "    <tr>\n",
       "      <th>3</th>\n",
       "      <td>9.347826</td>\n",
       "      <td>17.146933</td>\n",
       "    </tr>\n",
       "    <tr>\n",
       "      <th>4</th>\n",
       "      <td>10.434783</td>\n",
       "      <td>6.519258</td>\n",
       "    </tr>\n",
       "    <tr>\n",
       "      <th>...</th>\n",
       "      <td>...</td>\n",
       "      <td>...</td>\n",
       "    </tr>\n",
       "    <tr>\n",
       "      <th>173</th>\n",
       "      <td>5.434783</td>\n",
       "      <td>6.590585</td>\n",
       "    </tr>\n",
       "    <tr>\n",
       "      <th>174</th>\n",
       "      <td>6.956522</td>\n",
       "      <td>6.733238</td>\n",
       "    </tr>\n",
       "    <tr>\n",
       "      <th>175</th>\n",
       "      <td>10.869565</td>\n",
       "      <td>7.945792</td>\n",
       "    </tr>\n",
       "    <tr>\n",
       "      <th>176</th>\n",
       "      <td>10.869565</td>\n",
       "      <td>8.017118</td>\n",
       "    </tr>\n",
       "    <tr>\n",
       "      <th>177</th>\n",
       "      <td>5.652174</td>\n",
       "      <td>4.022825</td>\n",
       "    </tr>\n",
       "  </tbody>\n",
       "</table>\n",
       "<p>178 rows × 2 columns</p>\n",
       "</div>"
      ],
      "text/plain": [
       "     Magnesium    Proline\n",
       "0    12.391304  11.226819\n",
       "1     6.521739  11.012839\n",
       "2     6.739130  12.938659\n",
       "3     9.347826  17.146933\n",
       "4    10.434783   6.519258\n",
       "..         ...        ...\n",
       "173   5.434783   6.590585\n",
       "174   6.956522   6.733238\n",
       "175  10.869565   7.945792\n",
       "176  10.869565   8.017118\n",
       "177   5.652174   4.022825\n",
       "\n",
       "[178 rows x 2 columns]"
      ]
     },
     "execution_count": 31,
     "metadata": {},
     "output_type": "execute_result"
    }
   ],
   "source": [
    "# Min Max Scaling\n",
    "mms=preprocessing.MinMaxScaler(feature_range=(0,20))\n",
    "scaled_x=mms.fit_transform(x)\n",
    "scaled_x=pd.DataFrame(scaled_x,columns=['Magnesium','Proline'])\n",
    "scaled_x"
   ]
  },
  {
   "cell_type": "code",
   "execution_count": 32,
   "id": "c4846707",
   "metadata": {},
   "outputs": [
    {
     "data": {
      "text/html": [
       "<div>\n",
       "<style scoped>\n",
       "    .dataframe tbody tr th:only-of-type {\n",
       "        vertical-align: middle;\n",
       "    }\n",
       "\n",
       "    .dataframe tbody tr th {\n",
       "        vertical-align: top;\n",
       "    }\n",
       "\n",
       "    .dataframe thead th {\n",
       "        text-align: right;\n",
       "    }\n",
       "</style>\n",
       "<table border=\"1\" class=\"dataframe\">\n",
       "  <thead>\n",
       "    <tr style=\"text-align: right;\">\n",
       "      <th></th>\n",
       "      <th>Alcohol</th>\n",
       "      <th>Malic_Acid</th>\n",
       "      <th>Ash</th>\n",
       "      <th>Ash_Alcanity</th>\n",
       "      <th>Total_Phenols</th>\n",
       "      <th>Flavanoids</th>\n",
       "      <th>Nonflavanoid_Phenols</th>\n",
       "      <th>Proanthocyanins</th>\n",
       "      <th>Color_Intensity</th>\n",
       "      <th>Hue</th>\n",
       "      <th>OD280</th>\n",
       "      <th>Magnesium</th>\n",
       "      <th>Proline</th>\n",
       "    </tr>\n",
       "  </thead>\n",
       "  <tbody>\n",
       "    <tr>\n",
       "      <th>0</th>\n",
       "      <td>14.23</td>\n",
       "      <td>1.71</td>\n",
       "      <td>2.43</td>\n",
       "      <td>15.6</td>\n",
       "      <td>2.80</td>\n",
       "      <td>3.06</td>\n",
       "      <td>0.28</td>\n",
       "      <td>2.29</td>\n",
       "      <td>5.64</td>\n",
       "      <td>1.04</td>\n",
       "      <td>3.92</td>\n",
       "      <td>12.391304</td>\n",
       "      <td>11.226819</td>\n",
       "    </tr>\n",
       "    <tr>\n",
       "      <th>1</th>\n",
       "      <td>13.20</td>\n",
       "      <td>1.78</td>\n",
       "      <td>2.14</td>\n",
       "      <td>11.2</td>\n",
       "      <td>2.65</td>\n",
       "      <td>2.76</td>\n",
       "      <td>0.26</td>\n",
       "      <td>1.28</td>\n",
       "      <td>4.38</td>\n",
       "      <td>1.05</td>\n",
       "      <td>3.40</td>\n",
       "      <td>6.521739</td>\n",
       "      <td>11.012839</td>\n",
       "    </tr>\n",
       "    <tr>\n",
       "      <th>2</th>\n",
       "      <td>13.16</td>\n",
       "      <td>2.36</td>\n",
       "      <td>2.67</td>\n",
       "      <td>18.6</td>\n",
       "      <td>2.80</td>\n",
       "      <td>3.24</td>\n",
       "      <td>0.30</td>\n",
       "      <td>2.81</td>\n",
       "      <td>5.68</td>\n",
       "      <td>1.03</td>\n",
       "      <td>3.17</td>\n",
       "      <td>6.739130</td>\n",
       "      <td>12.938659</td>\n",
       "    </tr>\n",
       "    <tr>\n",
       "      <th>3</th>\n",
       "      <td>14.37</td>\n",
       "      <td>1.95</td>\n",
       "      <td>2.50</td>\n",
       "      <td>16.8</td>\n",
       "      <td>3.85</td>\n",
       "      <td>3.49</td>\n",
       "      <td>0.24</td>\n",
       "      <td>2.18</td>\n",
       "      <td>7.80</td>\n",
       "      <td>0.86</td>\n",
       "      <td>3.45</td>\n",
       "      <td>9.347826</td>\n",
       "      <td>17.146933</td>\n",
       "    </tr>\n",
       "    <tr>\n",
       "      <th>4</th>\n",
       "      <td>13.24</td>\n",
       "      <td>2.59</td>\n",
       "      <td>2.87</td>\n",
       "      <td>21.0</td>\n",
       "      <td>2.80</td>\n",
       "      <td>2.69</td>\n",
       "      <td>0.39</td>\n",
       "      <td>1.82</td>\n",
       "      <td>4.32</td>\n",
       "      <td>1.04</td>\n",
       "      <td>2.93</td>\n",
       "      <td>10.434783</td>\n",
       "      <td>6.519258</td>\n",
       "    </tr>\n",
       "    <tr>\n",
       "      <th>...</th>\n",
       "      <td>...</td>\n",
       "      <td>...</td>\n",
       "      <td>...</td>\n",
       "      <td>...</td>\n",
       "      <td>...</td>\n",
       "      <td>...</td>\n",
       "      <td>...</td>\n",
       "      <td>...</td>\n",
       "      <td>...</td>\n",
       "      <td>...</td>\n",
       "      <td>...</td>\n",
       "      <td>...</td>\n",
       "      <td>...</td>\n",
       "    </tr>\n",
       "    <tr>\n",
       "      <th>173</th>\n",
       "      <td>13.71</td>\n",
       "      <td>5.65</td>\n",
       "      <td>2.45</td>\n",
       "      <td>20.5</td>\n",
       "      <td>1.68</td>\n",
       "      <td>0.61</td>\n",
       "      <td>0.52</td>\n",
       "      <td>1.06</td>\n",
       "      <td>7.70</td>\n",
       "      <td>0.64</td>\n",
       "      <td>1.74</td>\n",
       "      <td>5.434783</td>\n",
       "      <td>6.590585</td>\n",
       "    </tr>\n",
       "    <tr>\n",
       "      <th>174</th>\n",
       "      <td>13.40</td>\n",
       "      <td>3.91</td>\n",
       "      <td>2.48</td>\n",
       "      <td>23.0</td>\n",
       "      <td>1.80</td>\n",
       "      <td>0.75</td>\n",
       "      <td>0.43</td>\n",
       "      <td>1.41</td>\n",
       "      <td>7.30</td>\n",
       "      <td>0.70</td>\n",
       "      <td>1.56</td>\n",
       "      <td>6.956522</td>\n",
       "      <td>6.733238</td>\n",
       "    </tr>\n",
       "    <tr>\n",
       "      <th>175</th>\n",
       "      <td>13.27</td>\n",
       "      <td>4.28</td>\n",
       "      <td>2.26</td>\n",
       "      <td>20.0</td>\n",
       "      <td>1.59</td>\n",
       "      <td>0.69</td>\n",
       "      <td>0.43</td>\n",
       "      <td>1.35</td>\n",
       "      <td>10.20</td>\n",
       "      <td>0.59</td>\n",
       "      <td>1.56</td>\n",
       "      <td>10.869565</td>\n",
       "      <td>7.945792</td>\n",
       "    </tr>\n",
       "    <tr>\n",
       "      <th>176</th>\n",
       "      <td>13.17</td>\n",
       "      <td>2.59</td>\n",
       "      <td>2.37</td>\n",
       "      <td>20.0</td>\n",
       "      <td>1.65</td>\n",
       "      <td>0.68</td>\n",
       "      <td>0.53</td>\n",
       "      <td>1.46</td>\n",
       "      <td>9.30</td>\n",
       "      <td>0.60</td>\n",
       "      <td>1.62</td>\n",
       "      <td>10.869565</td>\n",
       "      <td>8.017118</td>\n",
       "    </tr>\n",
       "    <tr>\n",
       "      <th>177</th>\n",
       "      <td>14.13</td>\n",
       "      <td>4.10</td>\n",
       "      <td>2.74</td>\n",
       "      <td>24.5</td>\n",
       "      <td>2.05</td>\n",
       "      <td>0.76</td>\n",
       "      <td>0.56</td>\n",
       "      <td>1.35</td>\n",
       "      <td>9.20</td>\n",
       "      <td>0.61</td>\n",
       "      <td>1.60</td>\n",
       "      <td>5.652174</td>\n",
       "      <td>4.022825</td>\n",
       "    </tr>\n",
       "  </tbody>\n",
       "</table>\n",
       "<p>178 rows × 13 columns</p>\n",
       "</div>"
      ],
      "text/plain": [
       "     Alcohol  Malic_Acid   Ash  Ash_Alcanity  Total_Phenols  Flavanoids  \\\n",
       "0      14.23        1.71  2.43          15.6           2.80        3.06   \n",
       "1      13.20        1.78  2.14          11.2           2.65        2.76   \n",
       "2      13.16        2.36  2.67          18.6           2.80        3.24   \n",
       "3      14.37        1.95  2.50          16.8           3.85        3.49   \n",
       "4      13.24        2.59  2.87          21.0           2.80        2.69   \n",
       "..       ...         ...   ...           ...            ...         ...   \n",
       "173    13.71        5.65  2.45          20.5           1.68        0.61   \n",
       "174    13.40        3.91  2.48          23.0           1.80        0.75   \n",
       "175    13.27        4.28  2.26          20.0           1.59        0.69   \n",
       "176    13.17        2.59  2.37          20.0           1.65        0.68   \n",
       "177    14.13        4.10  2.74          24.5           2.05        0.76   \n",
       "\n",
       "     Nonflavanoid_Phenols  Proanthocyanins  Color_Intensity   Hue  OD280  \\\n",
       "0                    0.28             2.29             5.64  1.04   3.92   \n",
       "1                    0.26             1.28             4.38  1.05   3.40   \n",
       "2                    0.30             2.81             5.68  1.03   3.17   \n",
       "3                    0.24             2.18             7.80  0.86   3.45   \n",
       "4                    0.39             1.82             4.32  1.04   2.93   \n",
       "..                    ...              ...              ...   ...    ...   \n",
       "173                  0.52             1.06             7.70  0.64   1.74   \n",
       "174                  0.43             1.41             7.30  0.70   1.56   \n",
       "175                  0.43             1.35            10.20  0.59   1.56   \n",
       "176                  0.53             1.46             9.30  0.60   1.62   \n",
       "177                  0.56             1.35             9.20  0.61   1.60   \n",
       "\n",
       "     Magnesium    Proline  \n",
       "0    12.391304  11.226819  \n",
       "1     6.521739  11.012839  \n",
       "2     6.739130  12.938659  \n",
       "3     9.347826  17.146933  \n",
       "4    10.434783   6.519258  \n",
       "..         ...        ...  \n",
       "173   5.434783   6.590585  \n",
       "174   6.956522   6.733238  \n",
       "175  10.869565   7.945792  \n",
       "176  10.869565   8.017118  \n",
       "177   5.652174   4.022825  \n",
       "\n",
       "[178 rows x 13 columns]"
      ]
     },
     "execution_count": 32,
     "metadata": {},
     "output_type": "execute_result"
    }
   ],
   "source": [
    "scaled_data=pd.concat([data.drop(['Magnesium','Proline'],axis=1),scaled_x],axis=1)\n",
    "scaled_data"
   ]
  },
  {
   "cell_type": "code",
   "execution_count": 33,
   "id": "5120983c",
   "metadata": {},
   "outputs": [
    {
     "data": {
      "text/html": [
       "<div>\n",
       "<style scoped>\n",
       "    .dataframe tbody tr th:only-of-type {\n",
       "        vertical-align: middle;\n",
       "    }\n",
       "\n",
       "    .dataframe tbody tr th {\n",
       "        vertical-align: top;\n",
       "    }\n",
       "\n",
       "    .dataframe thead th {\n",
       "        text-align: right;\n",
       "    }\n",
       "</style>\n",
       "<table border=\"1\" class=\"dataframe\">\n",
       "  <thead>\n",
       "    <tr style=\"text-align: right;\">\n",
       "      <th></th>\n",
       "      <th>Alcohol</th>\n",
       "      <th>Malic_Acid</th>\n",
       "      <th>Ash</th>\n",
       "      <th>Ash_Alcanity</th>\n",
       "      <th>Total_Phenols</th>\n",
       "      <th>Flavanoids</th>\n",
       "      <th>Nonflavanoid_Phenols</th>\n",
       "      <th>Proanthocyanins</th>\n",
       "      <th>Color_Intensity</th>\n",
       "      <th>Hue</th>\n",
       "      <th>OD280</th>\n",
       "      <th>Magnesium</th>\n",
       "      <th>Proline</th>\n",
       "    </tr>\n",
       "  </thead>\n",
       "  <tbody>\n",
       "    <tr>\n",
       "      <th>count</th>\n",
       "      <td>178.000000</td>\n",
       "      <td>178.000000</td>\n",
       "      <td>178.000000</td>\n",
       "      <td>178.000000</td>\n",
       "      <td>178.000000</td>\n",
       "      <td>178.000000</td>\n",
       "      <td>178.000000</td>\n",
       "      <td>178.000000</td>\n",
       "      <td>178.000000</td>\n",
       "      <td>178.000000</td>\n",
       "      <td>178.000000</td>\n",
       "      <td>178.000000</td>\n",
       "      <td>178.000000</td>\n",
       "    </tr>\n",
       "    <tr>\n",
       "      <th>mean</th>\n",
       "      <td>13.000618</td>\n",
       "      <td>2.336348</td>\n",
       "      <td>2.366517</td>\n",
       "      <td>19.494944</td>\n",
       "      <td>2.295112</td>\n",
       "      <td>2.029270</td>\n",
       "      <td>0.361854</td>\n",
       "      <td>1.590899</td>\n",
       "      <td>5.058090</td>\n",
       "      <td>0.957449</td>\n",
       "      <td>2.611685</td>\n",
       "      <td>6.465559</td>\n",
       "      <td>6.688920</td>\n",
       "    </tr>\n",
       "    <tr>\n",
       "      <th>std</th>\n",
       "      <td>0.811827</td>\n",
       "      <td>1.117146</td>\n",
       "      <td>0.274344</td>\n",
       "      <td>3.339564</td>\n",
       "      <td>0.625851</td>\n",
       "      <td>0.998859</td>\n",
       "      <td>0.124453</td>\n",
       "      <td>0.572359</td>\n",
       "      <td>2.318286</td>\n",
       "      <td>0.228572</td>\n",
       "      <td>0.709990</td>\n",
       "      <td>3.104888</td>\n",
       "      <td>4.492261</td>\n",
       "    </tr>\n",
       "    <tr>\n",
       "      <th>min</th>\n",
       "      <td>11.030000</td>\n",
       "      <td>0.740000</td>\n",
       "      <td>1.360000</td>\n",
       "      <td>10.600000</td>\n",
       "      <td>0.980000</td>\n",
       "      <td>0.340000</td>\n",
       "      <td>0.130000</td>\n",
       "      <td>0.410000</td>\n",
       "      <td>1.280000</td>\n",
       "      <td>0.480000</td>\n",
       "      <td>1.270000</td>\n",
       "      <td>0.000000</td>\n",
       "      <td>0.000000</td>\n",
       "    </tr>\n",
       "    <tr>\n",
       "      <th>25%</th>\n",
       "      <td>12.362500</td>\n",
       "      <td>1.602500</td>\n",
       "      <td>2.210000</td>\n",
       "      <td>17.200000</td>\n",
       "      <td>1.742500</td>\n",
       "      <td>1.205000</td>\n",
       "      <td>0.270000</td>\n",
       "      <td>1.250000</td>\n",
       "      <td>3.220000</td>\n",
       "      <td>0.782500</td>\n",
       "      <td>1.937500</td>\n",
       "      <td>3.913043</td>\n",
       "      <td>3.174037</td>\n",
       "    </tr>\n",
       "    <tr>\n",
       "      <th>50%</th>\n",
       "      <td>13.050000</td>\n",
       "      <td>1.865000</td>\n",
       "      <td>2.360000</td>\n",
       "      <td>19.500000</td>\n",
       "      <td>2.355000</td>\n",
       "      <td>2.135000</td>\n",
       "      <td>0.340000</td>\n",
       "      <td>1.555000</td>\n",
       "      <td>4.690000</td>\n",
       "      <td>0.965000</td>\n",
       "      <td>2.780000</td>\n",
       "      <td>6.086957</td>\n",
       "      <td>5.641940</td>\n",
       "    </tr>\n",
       "    <tr>\n",
       "      <th>75%</th>\n",
       "      <td>13.677500</td>\n",
       "      <td>3.082500</td>\n",
       "      <td>2.557500</td>\n",
       "      <td>21.500000</td>\n",
       "      <td>2.800000</td>\n",
       "      <td>2.875000</td>\n",
       "      <td>0.437500</td>\n",
       "      <td>1.950000</td>\n",
       "      <td>6.200000</td>\n",
       "      <td>1.120000</td>\n",
       "      <td>3.170000</td>\n",
       "      <td>8.043478</td>\n",
       "      <td>10.085592</td>\n",
       "    </tr>\n",
       "    <tr>\n",
       "      <th>max</th>\n",
       "      <td>14.830000</td>\n",
       "      <td>5.800000</td>\n",
       "      <td>3.230000</td>\n",
       "      <td>30.000000</td>\n",
       "      <td>3.880000</td>\n",
       "      <td>5.080000</td>\n",
       "      <td>0.660000</td>\n",
       "      <td>3.580000</td>\n",
       "      <td>13.000000</td>\n",
       "      <td>1.710000</td>\n",
       "      <td>4.000000</td>\n",
       "      <td>20.000000</td>\n",
       "      <td>20.000000</td>\n",
       "    </tr>\n",
       "  </tbody>\n",
       "</table>\n",
       "</div>"
      ],
      "text/plain": [
       "          Alcohol  Malic_Acid         Ash  Ash_Alcanity  Total_Phenols  \\\n",
       "count  178.000000  178.000000  178.000000    178.000000     178.000000   \n",
       "mean    13.000618    2.336348    2.366517     19.494944       2.295112   \n",
       "std      0.811827    1.117146    0.274344      3.339564       0.625851   \n",
       "min     11.030000    0.740000    1.360000     10.600000       0.980000   \n",
       "25%     12.362500    1.602500    2.210000     17.200000       1.742500   \n",
       "50%     13.050000    1.865000    2.360000     19.500000       2.355000   \n",
       "75%     13.677500    3.082500    2.557500     21.500000       2.800000   \n",
       "max     14.830000    5.800000    3.230000     30.000000       3.880000   \n",
       "\n",
       "       Flavanoids  Nonflavanoid_Phenols  Proanthocyanins  Color_Intensity  \\\n",
       "count  178.000000            178.000000       178.000000       178.000000   \n",
       "mean     2.029270              0.361854         1.590899         5.058090   \n",
       "std      0.998859              0.124453         0.572359         2.318286   \n",
       "min      0.340000              0.130000         0.410000         1.280000   \n",
       "25%      1.205000              0.270000         1.250000         3.220000   \n",
       "50%      2.135000              0.340000         1.555000         4.690000   \n",
       "75%      2.875000              0.437500         1.950000         6.200000   \n",
       "max      5.080000              0.660000         3.580000        13.000000   \n",
       "\n",
       "              Hue       OD280   Magnesium     Proline  \n",
       "count  178.000000  178.000000  178.000000  178.000000  \n",
       "mean     0.957449    2.611685    6.465559    6.688920  \n",
       "std      0.228572    0.709990    3.104888    4.492261  \n",
       "min      0.480000    1.270000    0.000000    0.000000  \n",
       "25%      0.782500    1.937500    3.913043    3.174037  \n",
       "50%      0.965000    2.780000    6.086957    5.641940  \n",
       "75%      1.120000    3.170000    8.043478   10.085592  \n",
       "max      1.710000    4.000000   20.000000   20.000000  "
      ]
     },
     "execution_count": 33,
     "metadata": {},
     "output_type": "execute_result"
    }
   ],
   "source": [
    "scaled_data.describe()"
   ]
  },
  {
   "cell_type": "markdown",
   "id": "d05f1a13",
   "metadata": {},
   "source": [
    "### Handling outliers"
   ]
  },
  {
   "cell_type": "code",
   "execution_count": 34,
   "id": "39e806f4",
   "metadata": {},
   "outputs": [
    {
     "data": {
      "image/png": "[encoded data removed]",
      "text/plain": [
       "<Figure size 2000x1500 with 1 Axes>"
      ]
     },
     "metadata": {},
     "output_type": "display_data"
    }
   ],
   "source": [
    "# Plotting the outliers in scaled dataset\n",
    "plt.figure(figsize=(20,15))\n",
    "plt.title(\"Outliers in Dataset\",fontsize=25,color='g')\n",
    "scaled_data.boxplot();"
   ]
  },
  {
   "cell_type": "markdown",
   "id": "fe4633bf",
   "metadata": {},
   "source": [
    "Outlier's are there in Malic_Acid,Ash,Ash_Alcanity,Proanthocyanins,Color_Intensity,Hue,Magnesium. Lets analyse it more closely"
   ]
  },
  {
   "cell_type": "code",
   "execution_count": 35,
   "id": "8bc727ac",
   "metadata": {},
   "outputs": [
    {
     "name": "stdout",
     "output_type": "stream",
     "text": [
      "Q1 is : 1.605\n",
      "Q2 is : 1.8650000000000002\n",
      "Q4 is : 3.065\n",
      "Upper limit is 5.255\n",
      "Lower limit is -0.585\n",
      "The outliers are : [5.8, 5.51, 5.65]\n",
      "The indices of outliers in malic acid are : Int64Index([123, 137, 173], dtype='int64')\n"
     ]
    }
   ],
   "source": [
    "# Outliers in Malic_Acid\n",
    "Q1=np.percentile(scaled_data['Malic_Acid'],25,interpolation='midpoint')\n",
    "Q2=np.percentile(scaled_data['Malic_Acid'],50,interpolation='midpoint')\n",
    "Q3=np.percentile(scaled_data['Malic_Acid'],75,interpolation='midpoint')\n",
    "print('Q1 is :',Q1)\n",
    "print('Q2 is :',Q2)\n",
    "print('Q4 is :',Q3)\n",
    "IQR=Q3-Q1\n",
    "up_lim=Q3+1.5*IQR\n",
    "low_lim=Q1-1.5*IQR\n",
    "print('Upper limit is',up_lim)\n",
    "print('Lower limit is',low_lim)\n",
    "\n",
    "outliers_Malic_Acid=[]\n",
    "for i in scaled_data['Malic_Acid']:\n",
    "    if((i<low_lim)or(i>up_lim)):\n",
    "        outliers_Malic_Acid.append(i)\n",
    "print('The outliers are :',outliers_Malic_Acid)\n",
    "\n",
    "\n",
    "ind1=scaled_data['Malic_Acid']>up_lim\n",
    "ind2=scaled_data['Malic_Acid']<low_lim\n",
    "MA= scaled_data.loc[ind1|ind2].index\n",
    "print('The indices of outliers in malic acid are :',MA)"
   ]
  },
  {
   "cell_type": "code",
   "execution_count": 36,
   "id": "075f5934",
   "metadata": {},
   "outputs": [
    {
     "name": "stdout",
     "output_type": "stream",
     "text": [
      "Q1 is : 2.21\n",
      "Q2 is : 2.36\n",
      "Q4 is : 2.5549999999999997\n",
      "Upper limit is 3.0724999999999993\n",
      "Lower limit is 1.6925000000000003\n",
      "The outliers are: [3.22, 1.36, 3.23]\n",
      "The indices of outliers in ash are : Int64Index([25, 59, 121], dtype='int64')\n"
     ]
    }
   ],
   "source": [
    "# Outliers in Ash\n",
    "Q1=np.percentile(scaled_data['Ash'],25,interpolation='midpoint')\n",
    "Q2=np.percentile(scaled_data['Ash'],50,interpolation='midpoint')\n",
    "Q3=np.percentile(scaled_data['Ash'],75,interpolation='midpoint')\n",
    "print('Q1 is :',Q1)\n",
    "print('Q2 is :',Q2)\n",
    "print('Q4 is :',Q3)\n",
    "IQR=Q3-Q1\n",
    "up_lim=Q3+1.5*IQR\n",
    "low_lim=Q1-1.5*IQR\n",
    "print('Upper limit is',up_lim)\n",
    "print('Lower limit is',low_lim)\n",
    "\n",
    "outliers_Ash=[]\n",
    "for i in scaled_data['Ash']:\n",
    "    if((i<low_lim)or(i>up_lim)):\n",
    "        outliers_Ash.append(i)\n",
    "print('The outliers are:',outliers_Ash)\n",
    "\n",
    "\n",
    "ind1=scaled_data['Ash']>up_lim\n",
    "ind2=scaled_data['Ash']<low_lim\n",
    "As=scaled_data.loc[ind1|ind2].index\n",
    "print('The indices of outliers in ash are :',As)"
   ]
  },
  {
   "cell_type": "code",
   "execution_count": 37,
   "id": "2ca3b9cb",
   "metadata": {},
   "outputs": [
    {
     "name": "stdout",
     "output_type": "stream",
     "text": [
      "Q1 is : 17.2\n",
      "Q2 is : 19.5\n",
      "Q4 is : 21.5\n",
      "Upper limit is 27.950000000000003\n",
      "Lower limit is 10.749999999999998\n",
      "The outliers are : [10.6, 30.0, 28.5, 28.5]\n",
      "The indices of outliers in ash alcanity are : Int64Index([59, 73, 121, 127], dtype='int64')\n"
     ]
    }
   ],
   "source": [
    "# Outliers in Ash_Alcanity\n",
    "Q1=np.percentile(scaled_data['Ash_Alcanity'],25,interpolation='midpoint')\n",
    "Q2=np.percentile(scaled_data['Ash_Alcanity'],50,interpolation='midpoint')\n",
    "Q3=np.percentile(scaled_data['Ash_Alcanity'],75,interpolation='midpoint')\n",
    "print('Q1 is :',Q1)\n",
    "print('Q2 is :',Q2)\n",
    "print('Q4 is :',Q3)\n",
    "IQR=Q3-Q1\n",
    "up_lim=Q3+1.5*IQR\n",
    "low_lim=Q1-1.5*IQR\n",
    "print('Upper limit is',up_lim)\n",
    "print('Lower limit is',low_lim)\n",
    "\n",
    "outliers_Ash_Alcanity=[]\n",
    "for i in scaled_data['Ash_Alcanity']:\n",
    "    if((i<low_lim)or(i>up_lim)):\n",
    "        outliers_Ash_Alcanity.append(i)\n",
    "print('The outliers are :',outliers_Ash_Alcanity)\n",
    "\n",
    "\n",
    "ind1=scaled_data['Ash_Alcanity']>up_lim\n",
    "ind2=scaled_data['Ash_Alcanity']<low_lim\n",
    "Al=scaled_data.loc[ind1|ind2].index\n",
    "print('The indices of outliers in ash alcanity are :',Al)"
   ]
  },
  {
   "cell_type": "code",
   "execution_count": 38,
   "id": "044c86fe",
   "metadata": {},
   "outputs": [
    {
     "name": "stdout",
     "output_type": "stream",
     "text": [
      "Q1 is : 1.25\n",
      "Q2 is : 1.5550000000000002\n",
      "Q4 is : 1.95\n",
      "Upper limit is 3.0\n",
      "Lower limit is 0.20000000000000018\n",
      "The outliers are: [3.28, 3.58]\n",
      "The indices of outliers in Proanthocyanins are : Int64Index([95, 110], dtype='int64')\n"
     ]
    }
   ],
   "source": [
    "# Outliers in Proanthocyanins\n",
    "Q1=np.percentile(scaled_data['Proanthocyanins'],25,interpolation='midpoint')\n",
    "Q2=np.percentile(scaled_data['Proanthocyanins'],50,interpolation='midpoint')\n",
    "Q3=np.percentile(scaled_data['Proanthocyanins'],75,interpolation='midpoint')\n",
    "print('Q1 is :',Q1)\n",
    "print('Q2 is :',Q2)\n",
    "print('Q4 is :',Q3)\n",
    "IQR=Q3-Q1\n",
    "up_lim=Q3+1.5*IQR\n",
    "low_lim=Q1-1.5*IQR\n",
    "print('Upper limit is',up_lim)\n",
    "print('Lower limit is',low_lim)\n",
    "\n",
    "outliers_Proanthocyanins=[]\n",
    "for i in scaled_data['Proanthocyanins']:\n",
    "    if((i<low_lim)or(i>up_lim)):\n",
    "        outliers_Proanthocyanins.append(i)\n",
    "print('The outliers are:',outliers_Proanthocyanins)\n",
    "\n",
    "\n",
    "ind1=scaled_data['Proanthocyanins']>up_lim\n",
    "ind2=scaled_data['Proanthocyanins']<low_lim\n",
    "P=scaled_data.loc[ind1|ind2].index\n",
    "print('The indices of outliers in Proanthocyanins are :',P)"
   ]
  },
  {
   "cell_type": "code",
   "execution_count": 39,
   "id": "0e4aee04",
   "metadata": {},
   "outputs": [
    {
     "name": "stdout",
     "output_type": "stream",
     "text": [
      "Q1 is : 3.23\n",
      "Q2 is : 4.6899999999999995\n",
      "Q4 is : 6.2\n",
      "Upper limit is 10.655000000000001\n",
      "Lower limit is -1.225\n",
      "The outliers are: [10.8, 13.0, 11.75, 10.68]\n",
      "The indices of outliers in Color Intensity are : Int64Index([151, 158, 159, 166], dtype='int64')\n"
     ]
    }
   ],
   "source": [
    "# Outliers in Color intensity\n",
    "Q1=np.percentile(scaled_data['Color_Intensity'],25,interpolation='midpoint')\n",
    "Q2=np.percentile(scaled_data['Color_Intensity'],50,interpolation='midpoint')\n",
    "Q3=np.percentile(scaled_data['Color_Intensity'],75,interpolation='midpoint')\n",
    "print('Q1 is :',Q1)\n",
    "print('Q2 is :',Q2)\n",
    "print('Q4 is :',Q3)\n",
    "IQR=Q3-Q1\n",
    "up_lim=Q3+1.5*IQR\n",
    "low_lim=Q1-1.5*IQR\n",
    "print('Upper limit is',up_lim)\n",
    "print('Lower limit is',low_lim)\n",
    "\n",
    "outliers_Color_Intensity=[]\n",
    "for i in scaled_data['Color_Intensity']:\n",
    "    if((i<low_lim)or(i>up_lim)):\n",
    "        outliers_Color_Intensity.append(i)\n",
    "print('The outliers are:',outliers_Color_Intensity)\n",
    "\n",
    "\n",
    "ind1=scaled_data['Color_Intensity']>up_lim\n",
    "ind2=scaled_data['Color_Intensity']<low_lim\n",
    "Ci=scaled_data.loc[ind1|ind2].index\n",
    "print('The indices of outliers in Color Intensity are :',Ci)"
   ]
  },
  {
   "cell_type": "code",
   "execution_count": 40,
   "id": "7e74977e",
   "metadata": {},
   "outputs": [
    {
     "name": "stdout",
     "output_type": "stream",
     "text": [
      "Q1 is : 0.785\n",
      "Q2 is : 0.965\n",
      "Q4 is : 1.12\n",
      "Upper limit is 1.6225000000000003\n",
      "Lower limit is 0.28249999999999986\n",
      "The outliers are: [1.71]\n",
      "The indices of outliers in Hue are : Int64Index([115], dtype='int64')\n"
     ]
    }
   ],
   "source": [
    "# Outliers in Hue\n",
    "Q1=np.percentile(scaled_data['Hue'],25,interpolation='midpoint')\n",
    "Q2=np.percentile(scaled_data['Hue'],50,interpolation='midpoint')\n",
    "Q3=np.percentile(scaled_data['Hue'],75,interpolation='midpoint')\n",
    "print('Q1 is :',Q1)\n",
    "print('Q2 is :',Q2)\n",
    "print('Q4 is :',Q3)\n",
    "IQR=Q3-Q1\n",
    "up_lim=Q3+1.5*IQR\n",
    "low_lim=Q1-1.5*IQR\n",
    "print('Upper limit is',up_lim)\n",
    "print('Lower limit is',low_lim)\n",
    "\n",
    "outliers_Hue=[]\n",
    "for i in scaled_data['Hue']:\n",
    "    if((i<low_lim)or(i>up_lim)):\n",
    "        outliers_Hue.append(i)\n",
    "print('The outliers are:',outliers_Hue)\n",
    "\n",
    "ind1=scaled_data['Hue']>up_lim\n",
    "ind2=scaled_data['Hue']<low_lim\n",
    "H=scaled_data.loc[ind1|ind2].index\n",
    "print('The indices of outliers in Hue are :',H)"
   ]
  },
  {
   "cell_type": "code",
   "execution_count": 41,
   "id": "0965c80a",
   "metadata": {},
   "outputs": [
    {
     "name": "stdout",
     "output_type": "stream",
     "text": [
      "Q1 is : 3.913043478260869\n",
      "Q2 is : 6.086956521739131\n",
      "Q4 is : 8.043478260869565\n",
      "Upper limit is 14.239130434782608\n",
      "Lower limit is -2.282608695652174\n",
      "The outliers are: [17.608695652173907, 14.999999999999998, 14.347826086956522, 20.0]\n",
      "The indices of outliers in Magnesium are : Int64Index([69, 73, 78, 95], dtype='int64')\n"
     ]
    }
   ],
   "source": [
    "# Outliers in Magnesium\n",
    "Q1=np.percentile(scaled_data['Magnesium'],25,interpolation='midpoint')\n",
    "Q2=np.percentile(scaled_data['Magnesium'],50,interpolation='midpoint')\n",
    "Q3=np.percentile(scaled_data['Magnesium'],75,interpolation='midpoint')\n",
    "print('Q1 is :',Q1)\n",
    "print('Q2 is :',Q2)\n",
    "print('Q4 is :',Q3)\n",
    "IQR=Q3-Q1\n",
    "up_lim=Q3+1.5*IQR\n",
    "low_lim=Q1-1.5*IQR\n",
    "print('Upper limit is',up_lim)\n",
    "print('Lower limit is',low_lim)\n",
    "\n",
    "outliers_Magnesium=[]\n",
    "for i in scaled_data['Magnesium']:\n",
    "    if((i<low_lim)or(i>up_lim)):\n",
    "        outliers_Magnesium.append(i)\n",
    "print('The outliers are:',outliers_Magnesium)\n",
    "\n",
    "ind1=scaled_data['Magnesium']>up_lim\n",
    "ind2=scaled_data['Magnesium']<low_lim\n",
    "M=scaled_data.loc[ind1|ind2].index\n",
    "print('The indices of outliers in Magnesium are :',M)"
   ]
  },
  {
   "cell_type": "code",
   "execution_count": 42,
   "id": "18ad33c4",
   "metadata": {},
   "outputs": [],
   "source": [
    "# Dropping the outliers\n",
    "scaled_data.drop([123,137,173,25,59,121,73,127,95,110,151,158,159,166,115,69,73,78],inplace=True)"
   ]
  },
  {
   "cell_type": "code",
   "execution_count": 43,
   "id": "9178f8e7",
   "metadata": {},
   "outputs": [
    {
     "data": {
      "text/html": [
       "<div>\n",
       "<style scoped>\n",
       "    .dataframe tbody tr th:only-of-type {\n",
       "        vertical-align: middle;\n",
       "    }\n",
       "\n",
       "    .dataframe tbody tr th {\n",
       "        vertical-align: top;\n",
       "    }\n",
       "\n",
       "    .dataframe thead th {\n",
       "        text-align: right;\n",
       "    }\n",
       "</style>\n",
       "<table border=\"1\" class=\"dataframe\">\n",
       "  <thead>\n",
       "    <tr style=\"text-align: right;\">\n",
       "      <th></th>\n",
       "      <th>Alcohol</th>\n",
       "      <th>Malic_Acid</th>\n",
       "      <th>Ash</th>\n",
       "      <th>Ash_Alcanity</th>\n",
       "      <th>Total_Phenols</th>\n",
       "      <th>Flavanoids</th>\n",
       "      <th>Nonflavanoid_Phenols</th>\n",
       "      <th>Proanthocyanins</th>\n",
       "      <th>Color_Intensity</th>\n",
       "      <th>Hue</th>\n",
       "      <th>OD280</th>\n",
       "      <th>Magnesium</th>\n",
       "      <th>Proline</th>\n",
       "    </tr>\n",
       "  </thead>\n",
       "  <tbody>\n",
       "    <tr>\n",
       "      <th>0</th>\n",
       "      <td>14.23</td>\n",
       "      <td>1.71</td>\n",
       "      <td>2.43</td>\n",
       "      <td>15.6</td>\n",
       "      <td>2.80</td>\n",
       "      <td>3.06</td>\n",
       "      <td>0.28</td>\n",
       "      <td>2.29</td>\n",
       "      <td>5.64</td>\n",
       "      <td>1.04</td>\n",
       "      <td>3.92</td>\n",
       "      <td>12.391304</td>\n",
       "      <td>11.226819</td>\n",
       "    </tr>\n",
       "    <tr>\n",
       "      <th>1</th>\n",
       "      <td>13.20</td>\n",
       "      <td>1.78</td>\n",
       "      <td>2.14</td>\n",
       "      <td>11.2</td>\n",
       "      <td>2.65</td>\n",
       "      <td>2.76</td>\n",
       "      <td>0.26</td>\n",
       "      <td>1.28</td>\n",
       "      <td>4.38</td>\n",
       "      <td>1.05</td>\n",
       "      <td>3.40</td>\n",
       "      <td>6.521739</td>\n",
       "      <td>11.012839</td>\n",
       "    </tr>\n",
       "    <tr>\n",
       "      <th>2</th>\n",
       "      <td>13.16</td>\n",
       "      <td>2.36</td>\n",
       "      <td>2.67</td>\n",
       "      <td>18.6</td>\n",
       "      <td>2.80</td>\n",
       "      <td>3.24</td>\n",
       "      <td>0.30</td>\n",
       "      <td>2.81</td>\n",
       "      <td>5.68</td>\n",
       "      <td>1.03</td>\n",
       "      <td>3.17</td>\n",
       "      <td>6.739130</td>\n",
       "      <td>12.938659</td>\n",
       "    </tr>\n",
       "    <tr>\n",
       "      <th>3</th>\n",
       "      <td>14.37</td>\n",
       "      <td>1.95</td>\n",
       "      <td>2.50</td>\n",
       "      <td>16.8</td>\n",
       "      <td>3.85</td>\n",
       "      <td>3.49</td>\n",
       "      <td>0.24</td>\n",
       "      <td>2.18</td>\n",
       "      <td>7.80</td>\n",
       "      <td>0.86</td>\n",
       "      <td>3.45</td>\n",
       "      <td>9.347826</td>\n",
       "      <td>17.146933</td>\n",
       "    </tr>\n",
       "    <tr>\n",
       "      <th>4</th>\n",
       "      <td>13.24</td>\n",
       "      <td>2.59</td>\n",
       "      <td>2.87</td>\n",
       "      <td>21.0</td>\n",
       "      <td>2.80</td>\n",
       "      <td>2.69</td>\n",
       "      <td>0.39</td>\n",
       "      <td>1.82</td>\n",
       "      <td>4.32</td>\n",
       "      <td>1.04</td>\n",
       "      <td>2.93</td>\n",
       "      <td>10.434783</td>\n",
       "      <td>6.519258</td>\n",
       "    </tr>\n",
       "    <tr>\n",
       "      <th>...</th>\n",
       "      <td>...</td>\n",
       "      <td>...</td>\n",
       "      <td>...</td>\n",
       "      <td>...</td>\n",
       "      <td>...</td>\n",
       "      <td>...</td>\n",
       "      <td>...</td>\n",
       "      <td>...</td>\n",
       "      <td>...</td>\n",
       "      <td>...</td>\n",
       "      <td>...</td>\n",
       "      <td>...</td>\n",
       "      <td>...</td>\n",
       "    </tr>\n",
       "    <tr>\n",
       "      <th>156</th>\n",
       "      <td>14.16</td>\n",
       "      <td>2.51</td>\n",
       "      <td>2.48</td>\n",
       "      <td>20.0</td>\n",
       "      <td>1.68</td>\n",
       "      <td>0.70</td>\n",
       "      <td>0.44</td>\n",
       "      <td>1.24</td>\n",
       "      <td>9.70</td>\n",
       "      <td>0.62</td>\n",
       "      <td>1.71</td>\n",
       "      <td>4.565217</td>\n",
       "      <td>5.449358</td>\n",
       "    </tr>\n",
       "    <tr>\n",
       "      <th>157</th>\n",
       "      <td>13.40</td>\n",
       "      <td>3.91</td>\n",
       "      <td>2.48</td>\n",
       "      <td>23.0</td>\n",
       "      <td>1.80</td>\n",
       "      <td>0.75</td>\n",
       "      <td>0.43</td>\n",
       "      <td>1.41</td>\n",
       "      <td>7.30</td>\n",
       "      <td>0.70</td>\n",
       "      <td>1.56</td>\n",
       "      <td>6.956522</td>\n",
       "      <td>6.733238</td>\n",
       "    </tr>\n",
       "    <tr>\n",
       "      <th>158</th>\n",
       "      <td>13.27</td>\n",
       "      <td>4.28</td>\n",
       "      <td>2.26</td>\n",
       "      <td>20.0</td>\n",
       "      <td>1.59</td>\n",
       "      <td>0.69</td>\n",
       "      <td>0.43</td>\n",
       "      <td>1.35</td>\n",
       "      <td>10.20</td>\n",
       "      <td>0.59</td>\n",
       "      <td>1.56</td>\n",
       "      <td>10.869565</td>\n",
       "      <td>7.945792</td>\n",
       "    </tr>\n",
       "    <tr>\n",
       "      <th>159</th>\n",
       "      <td>13.17</td>\n",
       "      <td>2.59</td>\n",
       "      <td>2.37</td>\n",
       "      <td>20.0</td>\n",
       "      <td>1.65</td>\n",
       "      <td>0.68</td>\n",
       "      <td>0.53</td>\n",
       "      <td>1.46</td>\n",
       "      <td>9.30</td>\n",
       "      <td>0.60</td>\n",
       "      <td>1.62</td>\n",
       "      <td>10.869565</td>\n",
       "      <td>8.017118</td>\n",
       "    </tr>\n",
       "    <tr>\n",
       "      <th>160</th>\n",
       "      <td>14.13</td>\n",
       "      <td>4.10</td>\n",
       "      <td>2.74</td>\n",
       "      <td>24.5</td>\n",
       "      <td>2.05</td>\n",
       "      <td>0.76</td>\n",
       "      <td>0.56</td>\n",
       "      <td>1.35</td>\n",
       "      <td>9.20</td>\n",
       "      <td>0.61</td>\n",
       "      <td>1.60</td>\n",
       "      <td>5.652174</td>\n",
       "      <td>4.022825</td>\n",
       "    </tr>\n",
       "  </tbody>\n",
       "</table>\n",
       "<p>161 rows × 13 columns</p>\n",
       "</div>"
      ],
      "text/plain": [
       "     Alcohol  Malic_Acid   Ash  Ash_Alcanity  Total_Phenols  Flavanoids  \\\n",
       "0      14.23        1.71  2.43          15.6           2.80        3.06   \n",
       "1      13.20        1.78  2.14          11.2           2.65        2.76   \n",
       "2      13.16        2.36  2.67          18.6           2.80        3.24   \n",
       "3      14.37        1.95  2.50          16.8           3.85        3.49   \n",
       "4      13.24        2.59  2.87          21.0           2.80        2.69   \n",
       "..       ...         ...   ...           ...            ...         ...   \n",
       "156    14.16        2.51  2.48          20.0           1.68        0.70   \n",
       "157    13.40        3.91  2.48          23.0           1.80        0.75   \n",
       "158    13.27        4.28  2.26          20.0           1.59        0.69   \n",
       "159    13.17        2.59  2.37          20.0           1.65        0.68   \n",
       "160    14.13        4.10  2.74          24.5           2.05        0.76   \n",
       "\n",
       "     Nonflavanoid_Phenols  Proanthocyanins  Color_Intensity   Hue  OD280  \\\n",
       "0                    0.28             2.29             5.64  1.04   3.92   \n",
       "1                    0.26             1.28             4.38  1.05   3.40   \n",
       "2                    0.30             2.81             5.68  1.03   3.17   \n",
       "3                    0.24             2.18             7.80  0.86   3.45   \n",
       "4                    0.39             1.82             4.32  1.04   2.93   \n",
       "..                    ...              ...              ...   ...    ...   \n",
       "156                  0.44             1.24             9.70  0.62   1.71   \n",
       "157                  0.43             1.41             7.30  0.70   1.56   \n",
       "158                  0.43             1.35            10.20  0.59   1.56   \n",
       "159                  0.53             1.46             9.30  0.60   1.62   \n",
       "160                  0.56             1.35             9.20  0.61   1.60   \n",
       "\n",
       "     Magnesium    Proline  \n",
       "0    12.391304  11.226819  \n",
       "1     6.521739  11.012839  \n",
       "2     6.739130  12.938659  \n",
       "3     9.347826  17.146933  \n",
       "4    10.434783   6.519258  \n",
       "..         ...        ...  \n",
       "156   4.565217   5.449358  \n",
       "157   6.956522   6.733238  \n",
       "158  10.869565   7.945792  \n",
       "159  10.869565   8.017118  \n",
       "160   5.652174   4.022825  \n",
       "\n",
       "[161 rows x 13 columns]"
      ]
     },
     "execution_count": 43,
     "metadata": {},
     "output_type": "execute_result"
    }
   ],
   "source": [
    "scaled_data.reset_index(inplace=True)\n",
    "scaled_data.drop(['index'],axis=1)"
   ]
  },
  {
   "cell_type": "markdown",
   "id": "13f8596d",
   "metadata": {},
   "source": [
    "# Models after scaling and handling outliers"
   ]
  },
  {
   "cell_type": "markdown",
   "id": "5c149448",
   "metadata": {},
   "source": [
    "## K Means  Clustering"
   ]
  },
  {
   "cell_type": "code",
   "execution_count": 44,
   "id": "d7ca48a1",
   "metadata": {},
   "outputs": [],
   "source": [
    "# importing K Means\n",
    "from sklearn.cluster import KMeans"
   ]
  },
  {
   "cell_type": "code",
   "execution_count": 45,
   "id": "859e427f",
   "metadata": {},
   "outputs": [
    {
     "name": "stderr",
     "output_type": "stream",
     "text": [
      "c:\\Anaconda\\lib\\site-packages\\sklearn\\cluster\\_kmeans.py:1036: UserWarning: KMeans is known to have a memory leak on Windows with MKL, when there are less chunks than available threads. You can avoid it by setting the environment variable OMP_NUM_THREADS=1.\n",
      "  warnings.warn(\n"
     ]
    },
    {
     "data": {
      "image/png": "[encoded data removed]",
      "text/plain": [
       "<Figure size 640x480 with 1 Axes>"
      ]
     },
     "metadata": {},
     "output_type": "display_data"
    }
   ],
   "source": [
    "# Choosing number of clusters using elbow method\n",
    "wcss=[]\n",
    "for i in range(1,14):\n",
    "    kmeans=KMeans(n_clusters=i,init='k-means++',random_state=42)\n",
    "    kmeans.fit(scaled_data)\n",
    "    wcss.append(kmeans.inertia_)\n",
    "plt.plot(range(1,14),wcss)\n",
    "plt.title('Elbow method')\n",
    "plt.xlabel('No.of Clusters')\n",
    "plt.ylabel('wcss value');"
   ]
  },
  {
   "cell_type": "markdown",
   "id": "0f9739e6",
   "metadata": {},
   "source": [
    "The number of clusters can be 2 or 3, can fianlise one among them after comparing silhouette score."
   ]
  },
  {
   "cell_type": "code",
   "execution_count": 46,
   "id": "0c54a374",
   "metadata": {},
   "outputs": [
    {
     "data": {
      "text/plain": [
       "array([1, 1, 1, 1, 1, 1, 1, 1, 1, 1, 1, 1, 1, 1, 1, 1, 1, 1, 1, 1, 1, 1,\n",
       "       1, 1, 1, 1, 1, 1, 1, 1, 1, 1, 1, 1, 1, 1, 1, 1, 1, 1, 1, 1, 1, 1,\n",
       "       1, 1, 1, 1, 1, 1, 1, 1, 1, 1, 1, 1, 1, 1, 0, 0, 0, 0, 0, 0, 0, 0,\n",
       "       0, 0, 0, 0, 0, 0, 0, 0, 0, 0, 0, 0, 0, 0, 0, 0, 0, 0, 0, 0, 0, 0,\n",
       "       0, 0, 0, 0, 0, 0, 0, 0, 0, 0, 0, 0, 0, 0, 0, 0, 0, 0, 0, 0, 0, 0,\n",
       "       0, 0, 2, 2, 2, 2, 2, 2, 2, 2, 2, 2, 2, 2, 2, 2, 2, 2, 2, 2, 2, 2,\n",
       "       2, 2, 2, 2, 2, 2, 2, 2, 2, 2, 2, 2, 2, 2, 2, 2, 2, 2, 2, 2, 2, 2,\n",
       "       2, 2, 2, 2, 2, 2, 2])"
      ]
     },
     "execution_count": 46,
     "metadata": {},
     "output_type": "execute_result"
    }
   ],
   "source": [
    "#Model for 3 clusters\n",
    "kmeans=KMeans(n_clusters=3,init='k-means++',random_state=42)\n",
    "y_kmeans1=kmeans.fit_predict(scaled_data)\n",
    "y_kmeans1"
   ]
  },
  {
   "cell_type": "code",
   "execution_count": 47,
   "id": "0358de73",
   "metadata": {},
   "outputs": [
    {
     "name": "stdout",
     "output_type": "stream",
     "text": [
      "The silhouette score for K Means cluster model for 3 clusters is: 0.5749843572324307\n"
     ]
    }
   ],
   "source": [
    "# Silhouette score for 3 clusters\n",
    "from sklearn.metrics import silhouette_score\n",
    "sil_avg1=silhouette_score(scaled_data,y_kmeans1)\n",
    "print('The silhouette score for K Means cluster model for 3 clusters is:',sil_avg1)"
   ]
  },
  {
   "cell_type": "code",
   "execution_count": 48,
   "id": "d9744b1a",
   "metadata": {},
   "outputs": [
    {
     "name": "stdout",
     "output_type": "stream",
     "text": [
      "The silhouette score for K Means cluster model for 2 clusters is: 0.6074363214238524\n"
     ]
    }
   ],
   "source": [
    "# Silhouette score for 2 clusters\n",
    "kmeans=KMeans(n_clusters=2,init='k-means++',random_state=42)\n",
    "y_kmeans3=kmeans.fit_predict(scaled_data)\n",
    "sil_avg2=silhouette_score(scaled_data,y_kmeans3)\n",
    "print('The silhouette score for K Means cluster model for 2 clusters is:',sil_avg2)"
   ]
  },
  {
   "cell_type": "markdown",
   "id": "ce8f98b3",
   "metadata": {},
   "source": [
    "#### Silhouette score for 2 clusters is more than that for 3. So we can fix number of clusters as 2 without any doubt for K Means clustering."
   ]
  },
  {
   "cell_type": "markdown",
   "id": "8ad7f1fd",
   "metadata": {},
   "source": [
    "## Agglomerative Hierarchial Clustering"
   ]
  },
  {
   "cell_type": "code",
   "execution_count": 49,
   "id": "05568d24",
   "metadata": {},
   "outputs": [],
   "source": [
    "# Dendrogram\n",
    "import scipy.cluster.hierarchy as sch"
   ]
  },
  {
   "cell_type": "code",
   "execution_count": 50,
   "id": "0463efc5",
   "metadata": {},
   "outputs": [
    {
     "data": {
      "image/png": "[encoded data removed]",
      "text/plain": [
       "<Figure size 640x480 with 1 Axes>"
      ]
     },
     "metadata": {},
     "output_type": "display_data"
    }
   ],
   "source": [
    "# To find optimum number of clusters\n",
    "dendrogram=sch.dendrogram(sch.linkage(scaled_data,method='ward'))\n",
    "plt.title('Dendrogram')\n",
    "plt.xlabel('Data points')\n",
    "plt.ylabel('Euclidean distance');"
   ]
  },
  {
   "cell_type": "markdown",
   "id": "fa9d0ccf",
   "metadata": {},
   "source": [
    "From dendrogram we get that the optimum number of clusters is two."
   ]
  },
  {
   "cell_type": "code",
   "execution_count": 51,
   "id": "7c8fe872",
   "metadata": {},
   "outputs": [],
   "source": [
    "# importing AHC\n",
    "from sklearn.cluster import AgglomerativeClustering"
   ]
  },
  {
   "cell_type": "code",
   "execution_count": 52,
   "id": "b70692f9",
   "metadata": {},
   "outputs": [],
   "source": [
    "# Model creation\n",
    "hc=AgglomerativeClustering(n_clusters=2,affinity='euclidean',linkage='ward')\n",
    "y_hc=hc.fit_predict(scaled_data)"
   ]
  },
  {
   "cell_type": "code",
   "execution_count": 53,
   "id": "9eb2491c",
   "metadata": {},
   "outputs": [
    {
     "name": "stdout",
     "output_type": "stream",
     "text": [
      "The silhoutette score for Agglomerative Hierarchial Clustering for 2 clusters is: 0.5619940655894388\n"
     ]
    }
   ],
   "source": [
    "# Silhouette score\n",
    "sil_avg3=silhouette_score(scaled_data,y_hc)\n",
    "print('The silhoutette score for Agglomerative Hierarchial Clustering for 2 clusters is:',sil_avg3)"
   ]
  },
  {
   "cell_type": "markdown",
   "id": "df4829ac",
   "metadata": {},
   "source": [
    "## DBSCAN clustering"
   ]
  },
  {
   "cell_type": "code",
   "execution_count": 54,
   "id": "0b0f1bf0",
   "metadata": {},
   "outputs": [],
   "source": [
    "# importing DBSCAN\n",
    "from sklearn.cluster import DBSCAN"
   ]
  },
  {
   "cell_type": "markdown",
   "id": "c872518d",
   "metadata": {},
   "source": [
    "### To determine epsilon"
   ]
  },
  {
   "cell_type": "code",
   "execution_count": 55,
   "id": "79973390",
   "metadata": {},
   "outputs": [],
   "source": [
    "from sklearn.neighbors import NearestNeighbors"
   ]
  },
  {
   "cell_type": "code",
   "execution_count": 56,
   "id": "6216b3ad",
   "metadata": {},
   "outputs": [],
   "source": [
    "k=3\n",
    "nn=NearestNeighbors(n_neighbors=k)\n",
    "nbrs1=nn.fit(scaled_data)\n",
    "dstnc,ind = nbrs1.kneighbors(scaled_data)"
   ]
  },
  {
   "cell_type": "code",
   "execution_count": 57,
   "id": "2cb7adc0",
   "metadata": {},
   "outputs": [
    {
     "data": {
      "image/png": "[encoded data removed]",
      "text/plain": [
       "<Figure size 640x480 with 1 Axes>"
      ]
     },
     "metadata": {},
     "output_type": "display_data"
    }
   ],
   "source": [
    "dstnc=np.sort(dstnc,axis=0)[:,1]\n",
    "plt.plot(dstnc)\n",
    "plt.grid()\n",
    "plt.title('K-distance Graph',fontsize=15)\n",
    "plt.xlabel('Data Points sorted by distance',fontsize=14)\n",
    "plt.ylabel('Epsilon',fontsize=14)\n",
    "plt.axhline(y=6,color='red',ls='--');"
   ]
  },
  {
   "cell_type": "markdown",
   "id": "8de9d9f7",
   "metadata": {},
   "source": [
    "From the K-distance graph eps=6"
   ]
  },
  {
   "cell_type": "markdown",
   "id": "019cd357",
   "metadata": {},
   "source": [
    "### Fit the model"
   ]
  },
  {
   "cell_type": "code",
   "execution_count": 58,
   "id": "32d5d71a",
   "metadata": {},
   "outputs": [],
   "source": [
    "# importing DBSCAN\n",
    "from sklearn.cluster import DBSCAN"
   ]
  },
  {
   "cell_type": "markdown",
   "id": "31ead45e",
   "metadata": {},
   "source": [
    "Choose min_samples=6"
   ]
  },
  {
   "cell_type": "code",
   "execution_count": 59,
   "id": "01b5ca33",
   "metadata": {},
   "outputs": [
    {
     "name": "stdout",
     "output_type": "stream",
     "text": [
      "The silhouette score for DBSCAN(eps=5, min_samples=6) is -0.4433661898302278\n"
     ]
    }
   ],
   "source": [
    "# Checking the silhouette score\n",
    "dbs1=DBSCAN(eps=5,min_samples=6)\n",
    "dbs1.fit(scaled_data)\n",
    "ls1=dbs1.labels_\n",
    "sil_avgs1=silhouette_score(scaled_data,ls1) \n",
    "print('The silhouette score for',dbs1.fit(scaled_data), 'is', sil_avgs1)"
   ]
  },
  {
   "cell_type": "code",
   "execution_count": 60,
   "id": "797e11e2",
   "metadata": {},
   "outputs": [
    {
     "name": "stdout",
     "output_type": "stream",
     "text": [
      "The silhouette score for DBSCAN(eps=6, min_samples=6) is 0.03184806747849366\n"
     ]
    }
   ],
   "source": [
    "dbs2=DBSCAN(eps=6,min_samples=6)\n",
    "dbs2.fit(scaled_data)\n",
    "ls2=dbs2.labels_\n",
    "sil_avgs2=silhouette_score(scaled_data,ls2) \n",
    "print('The silhouette score for',dbs2.fit(scaled_data), 'is', sil_avgs2)"
   ]
  },
  {
   "cell_type": "code",
   "execution_count": 61,
   "id": "f2f35b28",
   "metadata": {},
   "outputs": [
    {
     "name": "stdout",
     "output_type": "stream",
     "text": [
      "The silhouette score for DBSCAN(eps=6, min_samples=6) is 0.2769443383055116\n"
     ]
    }
   ],
   "source": [
    "dbs3=DBSCAN(eps=7,min_samples=6)\n",
    "dbs3.fit(scaled_data)\n",
    "ls3=dbs3.labels_\n",
    "sil_avgs3=silhouette_score(scaled_data,ls3) \n",
    "print('The silhouette score for',dbs2.fit(scaled_data), 'is', sil_avgs3)"
   ]
  },
  {
   "cell_type": "markdown",
   "id": "1eb10180",
   "metadata": {},
   "source": [
    "#### From silhouette score we can infere that the performace of different models declined considerably after scaling and outlier handling"
   ]
  },
  {
   "cell_type": "code",
   "execution_count": 62,
   "id": "6195eee3",
   "metadata": {},
   "outputs": [
    {
     "name": "stdout",
     "output_type": "stream",
     "text": [
      "The number of clusters for DBSCAN(eps=40, min_samples=14) is 4\n"
     ]
    }
   ],
   "source": [
    "n_clusters_ = len(set(ls3)) - (1 if -1 in l2 else 0)\n",
    "print('The number of clusters for',db2.fit(data),'is',n_clusters_)"
   ]
  },
  {
   "cell_type": "code",
   "execution_count": 63,
   "id": "a211c3ea",
   "metadata": {},
   "outputs": [
    {
     "name": "stdout",
     "output_type": "stream",
     "text": [
      "The number of noise for DBSCAN(eps=40, min_samples=14) is 10\n"
     ]
    }
   ],
   "source": [
    "n_noise_ = list(ls3).count(-1)\n",
    "print('The number of noise for',db2.fit(data),'is',n_noise_)"
   ]
  },
  {
   "cell_type": "markdown",
   "id": "90688ca6",
   "metadata": {},
   "source": [
    "## Dimensionality reduction"
   ]
  },
  {
   "cell_type": "markdown",
   "id": "eb27295b",
   "metadata": {},
   "source": [
    "### PCA1"
   ]
  },
  {
   "cell_type": "code",
   "execution_count": 64,
   "id": "ed8f6d88",
   "metadata": {},
   "outputs": [],
   "source": [
    "#importing PCA\n",
    "from sklearn.decomposition import PCA"
   ]
  },
  {
   "cell_type": "code",
   "execution_count": 65,
   "id": "755462b1",
   "metadata": {},
   "outputs": [],
   "source": [
    "# PCA for 95% variance\n",
    "pca1=PCA(n_components=0.95)\n",
    "x_pca1=pca1.fit_transform(scaled_data)"
   ]
  },
  {
   "cell_type": "code",
   "execution_count": 66,
   "id": "bb5c0baf",
   "metadata": {},
   "outputs": [
    {
     "data": {
      "text/plain": [
       "(161, 1)"
      ]
     },
     "execution_count": 66,
     "metadata": {},
     "output_type": "execute_result"
    }
   ],
   "source": [
    "x_pca1.shape"
   ]
  },
  {
   "cell_type": "markdown",
   "id": "ea7518b6",
   "metadata": {},
   "source": [
    "## DBSCAN model with 95% Variance"
   ]
  },
  {
   "cell_type": "markdown",
   "id": "df9c59d5",
   "metadata": {},
   "source": [
    "### To determine epsilon"
   ]
  },
  {
   "cell_type": "code",
   "execution_count": 67,
   "id": "5c2ca0cf",
   "metadata": {},
   "outputs": [],
   "source": [
    "k=3\n",
    "nnp=NearestNeighbors(n_neighbors=k)\n",
    "nbrsp1=nnp.fit(x_pca1)\n",
    "dstncp,indp = nbrsp1.kneighbors(x_pca1)"
   ]
  },
  {
   "cell_type": "code",
   "execution_count": 68,
   "id": "da7c1032",
   "metadata": {},
   "outputs": [
    {
     "data": {
      "image/png": "[encoded data removed]",
      "text/plain": [
       "<Figure size 640x480 with 1 Axes>"
      ]
     },
     "metadata": {},
     "output_type": "display_data"
    }
   ],
   "source": [
    "dstncp=np.sort(dstncp,axis=0)[:,1]\n",
    "plt.plot(dstncp)\n",
    "plt.grid()\n",
    "plt.title('K-distance Graph after Feature Reduction',fontsize=15)\n",
    "plt.xlabel('Data Points sorted by distance',fontsize=14)\n",
    "plt.ylabel('Epsilon',fontsize=14)\n",
    "plt.axhline(y=1.1,color='red',ls='--')\n",
    "plt.axhline(y=.65,color='green',ls='--');"
   ]
  },
  {
   "cell_type": "markdown",
   "id": "c6e974a8",
   "metadata": {},
   "source": [
    "From K distance graph eps can be 1.1 or .65, can chose one among them after comparing silhouette score."
   ]
  },
  {
   "cell_type": "code",
   "execution_count": 69,
   "id": "bae7f9b7",
   "metadata": {},
   "outputs": [
    {
     "name": "stdout",
     "output_type": "stream",
     "text": [
      "The silhouette score for DBSCAN(eps=1.1, min_samples=2) is 0.4015608209885211\n"
     ]
    }
   ],
   "source": [
    "# Checking the silhouette score for eps=1.1\n",
    "dbp1=DBSCAN(eps=1.1,min_samples=2)\n",
    "dbp1.fit(x_pca1)\n",
    "lp1=dbp1.labels_\n",
    "sil_avgp1=silhouette_score(x_pca1,lp1) \n",
    "print('The silhouette score for',dbp1.fit(x_pca1), 'is', sil_avgp1)"
   ]
  },
  {
   "cell_type": "code",
   "execution_count": 70,
   "id": "6337f0a4",
   "metadata": {},
   "outputs": [
    {
     "name": "stdout",
     "output_type": "stream",
     "text": [
      "The silhouette score for DBSCAN(eps=0.65, min_samples=2) is -0.62185433832665\n"
     ]
    }
   ],
   "source": [
    "# model creation and silhouette score for eps=.65; second knee\n",
    "dbp2=DBSCAN(eps=.65,min_samples=2)\n",
    "dbp2.fit(x_pca1)\n",
    "lp2=dbp2.labels_\n",
    "sil_avgp2=silhouette_score(x_pca1,lp2) \n",
    "print('The silhouette score for',dbp2.fit(x_pca1), 'is', sil_avgp2)"
   ]
  },
  {
   "cell_type": "markdown",
   "id": "3f8bdc9f",
   "metadata": {},
   "source": [
    "#### Negative values for silhouette score indicates clusters are assigned  in wrong way. so don't need to consider eps=.65"
   ]
  },
  {
   "cell_type": "code",
   "execution_count": 71,
   "id": "d29e6c3b",
   "metadata": {},
   "outputs": [
    {
     "name": "stdout",
     "output_type": "stream",
     "text": [
      "The number of clusters for DBSCAN(eps=40, min_samples=14) is 49\n"
     ]
    }
   ],
   "source": [
    "n_clusters_ = len(set(lp1)) - (1 if -1 in l2 else 0)\n",
    "print('The number of clusters for',db2.fit(x_pca1),'is',n_clusters_)"
   ]
  },
  {
   "cell_type": "code",
   "execution_count": 72,
   "id": "0832bb01",
   "metadata": {},
   "outputs": [
    {
     "name": "stdout",
     "output_type": "stream",
     "text": [
      "The number of noise for DBSCAN(eps=40, min_samples=14) is 11\n"
     ]
    }
   ],
   "source": [
    "n_noise_ = list(lp1).count(-1)\n",
    "print('The number of noise for',db2.fit(x_pca1),'is',n_noise_)"
   ]
  },
  {
   "cell_type": "markdown",
   "id": "ae5d3b01",
   "metadata": {},
   "source": [
    "## K Means Clustering model"
   ]
  },
  {
   "cell_type": "code",
   "execution_count": 73,
   "id": "dd3f924c",
   "metadata": {},
   "outputs": [
    {
     "name": "stderr",
     "output_type": "stream",
     "text": [
      "c:\\Anaconda\\lib\\site-packages\\sklearn\\cluster\\_kmeans.py:1036: UserWarning: KMeans is known to have a memory leak on Windows with MKL, when there are less chunks than available threads. You can avoid it by setting the environment variable OMP_NUM_THREADS=1.\n",
      "  warnings.warn(\n"
     ]
    },
    {
     "data": {
      "image/png": "[encoded data removed]",
      "text/plain": [
       "<Figure size 640x480 with 1 Axes>"
      ]
     },
     "metadata": {},
     "output_type": "display_data"
    }
   ],
   "source": [
    "# Choosing number of clusters using elbow method\n",
    "wcss=[]\n",
    "for i in range(1,14):\n",
    "    kmeans=KMeans(n_clusters=i,init='k-means++',random_state=42)\n",
    "    kmeans.fit(x_pca1)\n",
    "    wcss.append(kmeans.inertia_)\n",
    "plt.plot(range(1,14),wcss)\n",
    "plt.title('Elbow method')\n",
    "plt.xlabel('No.of Clusters')\n",
    "plt.ylabel('wcss value');"
   ]
  },
  {
   "cell_type": "markdown",
   "id": "ded629c2",
   "metadata": {},
   "source": [
    "The number of clusters can be 2 or 3, can fianlise one among them after comparing silhouette score."
   ]
  },
  {
   "cell_type": "code",
   "execution_count": 74,
   "id": "fd728479",
   "metadata": {},
   "outputs": [
    {
     "name": "stdout",
     "output_type": "stream",
     "text": [
      "The silhouette score for K Means cluster model for 2 clusters is: 0.6218540205208558\n"
     ]
    }
   ],
   "source": [
    "# Silhouette score for 2 clusters\n",
    "kmeans=KMeans(n_clusters=2,init='k-means++',random_state=42)\n",
    "y_kmeansp1=kmeans.fit_predict(x_pca1)\n",
    "sil_avgkp1=silhouette_score(x_pca1,y_kmeansp1)\n",
    "print('The silhouette score for K Means cluster model for 2 clusters is:',sil_avgkp1)"
   ]
  },
  {
   "cell_type": "code",
   "execution_count": 75,
   "id": "a9ede39f",
   "metadata": {},
   "outputs": [
    {
     "name": "stdout",
     "output_type": "stream",
     "text": [
      "The silhouette score for K Means cluster model for 2 clusters is: 0.5937175557017106\n"
     ]
    }
   ],
   "source": [
    "# Silhouette score for 3 clusters\n",
    "kmeans=KMeans(n_clusters=3,init='k-means++',random_state=42)\n",
    "y_kmeansp1=kmeans.fit_predict(x_pca1)\n",
    "sil_avgkp1=silhouette_score(x_pca1,y_kmeansp1)\n",
    "print('The silhouette score for K Means cluster model for 2 clusters is:',sil_avgkp1)"
   ]
  },
  {
   "cell_type": "markdown",
   "id": "f9d8c7a8",
   "metadata": {},
   "source": [
    "#### Silhouette score for 2 clusters is more than that for 3 . So we can fix number of clusters as 2 without any doubt for K Means clustering."
   ]
  },
  {
   "cell_type": "markdown",
   "id": "a6b8fa48",
   "metadata": {},
   "source": [
    "## Agglomerative Hierarchial Clustering"
   ]
  },
  {
   "cell_type": "code",
   "execution_count": 76,
   "id": "568b9f1e",
   "metadata": {},
   "outputs": [
    {
     "data": {
      "image/png": "[encoded data removed]",
      "text/plain": [
       "<Figure size 640x480 with 1 Axes>"
      ]
     },
     "metadata": {},
     "output_type": "display_data"
    }
   ],
   "source": [
    "# To find optimum number of clusters\n",
    "dendrogram=sch.dendrogram(sch.linkage(x_pca1,method='ward'))\n",
    "plt.title('Dendrogram')\n",
    "plt.xlabel('Data points')\n",
    "plt.ylabel('Euclidean distance');"
   ]
  },
  {
   "cell_type": "markdown",
   "id": "04f67b11",
   "metadata": {},
   "source": [
    "From dendrogram we get that the optimum number of clusters is two."
   ]
  },
  {
   "cell_type": "code",
   "execution_count": 77,
   "id": "b39e7f8e",
   "metadata": {},
   "outputs": [],
   "source": [
    "# Model creation\n",
    "hc=AgglomerativeClustering(n_clusters=2,affinity='euclidean',linkage='ward')\n",
    "y_hcp=hc.fit_predict(x_pca1)"
   ]
  },
  {
   "cell_type": "code",
   "execution_count": 78,
   "id": "fc5ac0fd",
   "metadata": {},
   "outputs": [
    {
     "name": "stdout",
     "output_type": "stream",
     "text": [
      "The silhoutette score for Agglomerative Hierarchial Clustering, after feature reduction, for 2 clusters is: 0.5510069692627475\n"
     ]
    }
   ],
   "source": [
    "# Silhouette score\n",
    "sil_avgp3=silhouette_score(x_pca1,y_hcp)\n",
    "print('The silhoutette score for Agglomerative Hierarchial Clustering, after feature reduction, for 2 clusters is:',sil_avgp3)"
   ]
  },
  {
   "cell_type": "markdown",
   "id": "82959070",
   "metadata": {},
   "source": [
    "After scaling the Silhouette score for DBSCAN decreased considerably. But after dimensionality reduction the Silhouette score for DBSCAN improved. For both K means and Agglomerative Hierarchial Clustering the Silhouette score was more over the same for all approaches."
   ]
  },
  {
   "cell_type": "code",
   "execution_count": null,
   "id": "f85df8fc",
   "metadata": {},
   "outputs": [],
   "source": []
  }
 ],
 "metadata": {
  "kernelspec": {
   "display_name": "Python 3 (ipykernel)",
   "language": "python",
   "name": "python3"
  },
  "language_info": {
   "codemirror_mode": {
    "name": "ipython",
    "version": 3
   },
   "file_extension": ".py",
   "mimetype": "text/x-python",
   "name": "python",
   "nbconvert_exporter": "python",
   "pygments_lexer": "ipython3",
   "version": "3.9.13"
  }
 },
 "nbformat": 4,
 "nbformat_minor": 5
}

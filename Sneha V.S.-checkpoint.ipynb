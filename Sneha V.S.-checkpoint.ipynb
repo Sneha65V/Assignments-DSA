{
 "cells": [
  {
   "cell_type": "code",
   "execution_count": 1,
   "id": "78ff91f9",
   "metadata": {},
   "outputs": [],
   "source": [
    "import numpy as np\n",
    "import pandas as pd\n",
    "import matplotlib.pyplot as plt\n",
    "import seaborn as sns\n",
    "from sklearn.impute import SimpleImputer\n",
    "from sklearn import preprocessing"
   ]
  },
  {
   "cell_type": "markdown",
   "id": "1c42b97b",
   "metadata": {},
   "source": [
    "## Loading data and basic analysis of the data set."
   ]
  },
  {
   "cell_type": "code",
   "execution_count": 2,
   "id": "89c7fc65",
   "metadata": {},
   "outputs": [],
   "source": [
    "data=pd.read_csv('car_age_price.csv')"
   ]
  },
  {
   "cell_type": "code",
   "execution_count": 3,
   "id": "35002187",
   "metadata": {},
   "outputs": [
    {
     "data": {
      "text/html": [
       "<div>\n",
       "<style scoped>\n",
       "    .dataframe tbody tr th:only-of-type {\n",
       "        vertical-align: middle;\n",
       "    }\n",
       "\n",
       "    .dataframe tbody tr th {\n",
       "        vertical-align: top;\n",
       "    }\n",
       "\n",
       "    .dataframe thead th {\n",
       "        text-align: right;\n",
       "    }\n",
       "</style>\n",
       "<table border=\"1\" class=\"dataframe\">\n",
       "  <thead>\n",
       "    <tr style=\"text-align: right;\">\n",
       "      <th></th>\n",
       "      <th>Year</th>\n",
       "      <th>Price</th>\n",
       "    </tr>\n",
       "  </thead>\n",
       "  <tbody>\n",
       "    <tr>\n",
       "      <th>0</th>\n",
       "      <td>2018</td>\n",
       "      <td>465000</td>\n",
       "    </tr>\n",
       "    <tr>\n",
       "      <th>1</th>\n",
       "      <td>2019</td>\n",
       "      <td>755000</td>\n",
       "    </tr>\n",
       "    <tr>\n",
       "      <th>2</th>\n",
       "      <td>2019</td>\n",
       "      <td>700000</td>\n",
       "    </tr>\n",
       "    <tr>\n",
       "      <th>3</th>\n",
       "      <td>2018</td>\n",
       "      <td>465000</td>\n",
       "    </tr>\n",
       "    <tr>\n",
       "      <th>4</th>\n",
       "      <td>2018</td>\n",
       "      <td>465000</td>\n",
       "    </tr>\n",
       "  </tbody>\n",
       "</table>\n",
       "</div>"
      ],
      "text/plain": [
       "   Year   Price\n",
       "0  2018  465000\n",
       "1  2019  755000\n",
       "2  2019  700000\n",
       "3  2018  465000\n",
       "4  2018  465000"
      ]
     },
     "execution_count": 3,
     "metadata": {},
     "output_type": "execute_result"
    }
   ],
   "source": [
    "data.head()"
   ]
  },
  {
   "cell_type": "code",
   "execution_count": 4,
   "id": "ba37d29a",
   "metadata": {},
   "outputs": [
    {
     "data": {
      "text/plain": [
       "(112, 2)"
      ]
     },
     "execution_count": 4,
     "metadata": {},
     "output_type": "execute_result"
    }
   ],
   "source": [
    "data.shape"
   ]
  },
  {
   "cell_type": "code",
   "execution_count": 5,
   "id": "773918a4",
   "metadata": {},
   "outputs": [
    {
     "name": "stdout",
     "output_type": "stream",
     "text": [
      "<class 'pandas.core.frame.DataFrame'>\n",
      "RangeIndex: 112 entries, 0 to 111\n",
      "Data columns (total 2 columns):\n",
      " #   Column  Non-Null Count  Dtype\n",
      "---  ------  --------------  -----\n",
      " 0   Year    112 non-null    int64\n",
      " 1   Price   112 non-null    int64\n",
      "dtypes: int64(2)\n",
      "memory usage: 1.9 KB\n"
     ]
    }
   ],
   "source": [
    "data.info()"
   ]
  },
  {
   "cell_type": "code",
   "execution_count": 6,
   "id": "2fb8ecc9",
   "metadata": {},
   "outputs": [
    {
     "data": {
      "text/html": [
       "<div>\n",
       "<style scoped>\n",
       "    .dataframe tbody tr th:only-of-type {\n",
       "        vertical-align: middle;\n",
       "    }\n",
       "\n",
       "    .dataframe tbody tr th {\n",
       "        vertical-align: top;\n",
       "    }\n",
       "\n",
       "    .dataframe thead th {\n",
       "        text-align: right;\n",
       "    }\n",
       "</style>\n",
       "<table border=\"1\" class=\"dataframe\">\n",
       "  <thead>\n",
       "    <tr style=\"text-align: right;\">\n",
       "      <th></th>\n",
       "      <th>Year</th>\n",
       "      <th>Price</th>\n",
       "    </tr>\n",
       "  </thead>\n",
       "  <tbody>\n",
       "    <tr>\n",
       "      <th>count</th>\n",
       "      <td>112.000000</td>\n",
       "      <td>112.000000</td>\n",
       "    </tr>\n",
       "    <tr>\n",
       "      <th>mean</th>\n",
       "      <td>2016.669643</td>\n",
       "      <td>483866.044643</td>\n",
       "    </tr>\n",
       "    <tr>\n",
       "      <th>std</th>\n",
       "      <td>1.629616</td>\n",
       "      <td>91217.450533</td>\n",
       "    </tr>\n",
       "    <tr>\n",
       "      <th>min</th>\n",
       "      <td>2013.000000</td>\n",
       "      <td>300000.000000</td>\n",
       "    </tr>\n",
       "    <tr>\n",
       "      <th>25%</th>\n",
       "      <td>2015.000000</td>\n",
       "      <td>423750.000000</td>\n",
       "    </tr>\n",
       "    <tr>\n",
       "      <th>50%</th>\n",
       "      <td>2017.000000</td>\n",
       "      <td>500000.000000</td>\n",
       "    </tr>\n",
       "    <tr>\n",
       "      <th>75%</th>\n",
       "      <td>2017.000000</td>\n",
       "      <td>550000.000000</td>\n",
       "    </tr>\n",
       "    <tr>\n",
       "      <th>max</th>\n",
       "      <td>2020.000000</td>\n",
       "      <td>755000.000000</td>\n",
       "    </tr>\n",
       "  </tbody>\n",
       "</table>\n",
       "</div>"
      ],
      "text/plain": [
       "              Year          Price\n",
       "count   112.000000     112.000000\n",
       "mean   2016.669643  483866.044643\n",
       "std       1.629616   91217.450533\n",
       "min    2013.000000  300000.000000\n",
       "25%    2015.000000  423750.000000\n",
       "50%    2017.000000  500000.000000\n",
       "75%    2017.000000  550000.000000\n",
       "max    2020.000000  755000.000000"
      ]
     },
     "execution_count": 6,
     "metadata": {},
     "output_type": "execute_result"
    }
   ],
   "source": [
    "data.describe()"
   ]
  },
  {
   "cell_type": "code",
   "execution_count": 7,
   "id": "92ea1924",
   "metadata": {},
   "outputs": [
    {
     "data": {
      "text/plain": [
       "Index(['Year', 'Price'], dtype='object')"
      ]
     },
     "execution_count": 7,
     "metadata": {},
     "output_type": "execute_result"
    }
   ],
   "source": [
    "data.columns"
   ]
  },
  {
   "cell_type": "markdown",
   "id": "040c03c4",
   "metadata": {},
   "source": [
    "## Creating Correlation matrix"
   ]
  },
  {
   "cell_type": "code",
   "execution_count": 8,
   "id": "d49216b0",
   "metadata": {},
   "outputs": [
    {
     "data": {
      "image/png": "[encoded data removed]",
      "text/plain": [
       "<Figure size 720x360 with 2 Axes>"
      ]
     },
     "metadata": {
      "needs_background": "light"
     },
     "output_type": "display_data"
    }
   ],
   "source": [
    "corrmatrix=data.corr()\n",
    "plt.subplots(figsize=(10,5))\n",
    "sns.heatmap(corrmatrix,annot=True,cmap='YlGnBu');"
   ]
  },
  {
   "cell_type": "markdown",
   "id": "d7dbd5ad",
   "metadata": {},
   "source": [
    "## Checking whether there is outliers"
   ]
  },
  {
   "cell_type": "code",
   "execution_count": 9,
   "id": "d680c98a",
   "metadata": {},
   "outputs": [
    {
     "data": {
      "image/png": "[encoded data removed]",
      "text/plain": [
       "<Figure size 720x576 with 1 Axes>"
      ]
     },
     "metadata": {
      "needs_background": "light"
     },
     "output_type": "display_data"
    }
   ],
   "source": [
    "plt.figure(figsize=(10,8))\n",
    "plt.boxplot(data['Price'])\n",
    "plt.title('Price of Used cars');"
   ]
  },
  {
   "cell_type": "markdown",
   "id": "6fc49aaa",
   "metadata": {},
   "source": [
    "## Splitting into feature and target."
   ]
  },
  {
   "cell_type": "code",
   "execution_count": 15,
   "id": "44bb82a4",
   "metadata": {},
   "outputs": [],
   "source": [
    "x=data.drop(['Price'],axis=1)\n",
    "y=data['Price']"
   ]
  },
  {
   "cell_type": "code",
   "execution_count": 16,
   "id": "f796df6b",
   "metadata": {},
   "outputs": [
    {
     "data": {
      "text/html": [
       "<div>\n",
       "<style scoped>\n",
       "    .dataframe tbody tr th:only-of-type {\n",
       "        vertical-align: middle;\n",
       "    }\n",
       "\n",
       "    .dataframe tbody tr th {\n",
       "        vertical-align: top;\n",
       "    }\n",
       "\n",
       "    .dataframe thead th {\n",
       "        text-align: right;\n",
       "    }\n",
       "</style>\n",
       "<table border=\"1\" class=\"dataframe\">\n",
       "  <thead>\n",
       "    <tr style=\"text-align: right;\">\n",
       "      <th></th>\n",
       "      <th>Year</th>\n",
       "    </tr>\n",
       "  </thead>\n",
       "  <tbody>\n",
       "    <tr>\n",
       "      <th>0</th>\n",
       "      <td>2018</td>\n",
       "    </tr>\n",
       "    <tr>\n",
       "      <th>1</th>\n",
       "      <td>2019</td>\n",
       "    </tr>\n",
       "    <tr>\n",
       "      <th>2</th>\n",
       "      <td>2019</td>\n",
       "    </tr>\n",
       "    <tr>\n",
       "      <th>3</th>\n",
       "      <td>2018</td>\n",
       "    </tr>\n",
       "    <tr>\n",
       "      <th>4</th>\n",
       "      <td>2018</td>\n",
       "    </tr>\n",
       "    <tr>\n",
       "      <th>...</th>\n",
       "      <td>...</td>\n",
       "    </tr>\n",
       "    <tr>\n",
       "      <th>107</th>\n",
       "      <td>2016</td>\n",
       "    </tr>\n",
       "    <tr>\n",
       "      <th>108</th>\n",
       "      <td>2014</td>\n",
       "    </tr>\n",
       "    <tr>\n",
       "      <th>109</th>\n",
       "      <td>2015</td>\n",
       "    </tr>\n",
       "    <tr>\n",
       "      <th>110</th>\n",
       "      <td>2016</td>\n",
       "    </tr>\n",
       "    <tr>\n",
       "      <th>111</th>\n",
       "      <td>2015</td>\n",
       "    </tr>\n",
       "  </tbody>\n",
       "</table>\n",
       "<p>112 rows × 1 columns</p>\n",
       "</div>"
      ],
      "text/plain": [
       "     Year\n",
       "0    2018\n",
       "1    2019\n",
       "2    2019\n",
       "3    2018\n",
       "4    2018\n",
       "..    ...\n",
       "107  2016\n",
       "108  2014\n",
       "109  2015\n",
       "110  2016\n",
       "111  2015\n",
       "\n",
       "[112 rows x 1 columns]"
      ]
     },
     "execution_count": 16,
     "metadata": {},
     "output_type": "execute_result"
    }
   ],
   "source": [
    "x"
   ]
  },
  {
   "cell_type": "code",
   "execution_count": 17,
   "id": "e5bfd1f5",
   "metadata": {},
   "outputs": [
    {
     "data": {
      "text/plain": [
       "0      465000\n",
       "1      755000\n",
       "2      700000\n",
       "3      465000\n",
       "4      465000\n",
       "        ...  \n",
       "107    375000\n",
       "108    300000\n",
       "109    425000\n",
       "110    420000\n",
       "111    425000\n",
       "Name: Price, Length: 112, dtype: int64"
      ]
     },
     "execution_count": 17,
     "metadata": {},
     "output_type": "execute_result"
    }
   ],
   "source": [
    "y"
   ]
  },
  {
   "cell_type": "markdown",
   "id": "acc80ad8",
   "metadata": {},
   "source": [
    "## Assigning train and test values"
   ]
  },
  {
   "cell_type": "code",
   "execution_count": 18,
   "id": "67713c17",
   "metadata": {},
   "outputs": [],
   "source": [
    "from sklearn.model_selection import train_test_split"
   ]
  },
  {
   "cell_type": "code",
   "execution_count": 19,
   "id": "c03631c6",
   "metadata": {},
   "outputs": [],
   "source": [
    "x_train,x_test,y_train,y_test=train_test_split(x,y,random_state=42,test_size=0.2)"
   ]
  },
  {
   "cell_type": "markdown",
   "id": "05f32cef",
   "metadata": {},
   "source": [
    "## Creating Linear regression model"
   ]
  },
  {
   "cell_type": "code",
   "execution_count": 20,
   "id": "205c9c97",
   "metadata": {},
   "outputs": [],
   "source": [
    "from sklearn.linear_model import LinearRegression"
   ]
  },
  {
   "cell_type": "code",
   "execution_count": 21,
   "id": "9c60b9e6",
   "metadata": {},
   "outputs": [],
   "source": [
    "lr=LinearRegression()\n",
    "model1=lr.fit(x_train,y_train)\n",
    "predict1=model1.predict(x_test)"
   ]
  },
  {
   "cell_type": "code",
   "execution_count": 22,
   "id": "a13307ca",
   "metadata": {},
   "outputs": [
    {
     "data": {
      "text/plain": [
       "40     525000\n",
       "65     495000\n",
       "4      465000\n",
       "47     450000\n",
       "42     550000\n",
       "69     300000\n",
       "26     550000\n",
       "11     500000\n",
       "10     500000\n",
       "44     550000\n",
       "73     320000\n",
       "55     550000\n",
       "68     465000\n",
       "97     640000\n",
       "0      465000\n",
       "18     500000\n",
       "53     345000\n",
       "80     390000\n",
       "103    375000\n",
       "91     520000\n",
       "36     550000\n",
       "12     500000\n",
       "31     550000\n",
       "Name: Price, dtype: int64"
      ]
     },
     "execution_count": 22,
     "metadata": {},
     "output_type": "execute_result"
    }
   ],
   "source": [
    "y_test"
   ]
  },
  {
   "cell_type": "code",
   "execution_count": 23,
   "id": "c2308248",
   "metadata": {},
   "outputs": [
    {
     "data": {
      "text/plain": [
       "array([600775.91252081, 505558.77690466, 553167.34471273, 553167.34471273,\n",
       "       553167.34471273, 410341.6412885 , 505558.77690466, 553167.34471273,\n",
       "       600775.91252081, 600775.91252081, 315124.50567235, 505558.77690466,\n",
       "       410341.6412885 , 648384.48032889, 553167.34471273, 600775.91252081,\n",
       "       315124.50567235, 410341.6412885 , 505558.77690466, 505558.77690466,\n",
       "       505558.77690466, 505558.77690466, 505558.77690466])"
      ]
     },
     "execution_count": 23,
     "metadata": {},
     "output_type": "execute_result"
    }
   ],
   "source": [
    "predict1"
   ]
  },
  {
   "cell_type": "markdown",
   "id": "ed98b675",
   "metadata": {},
   "source": [
    "## Linear regression error values"
   ]
  },
  {
   "cell_type": "code",
   "execution_count": 24,
   "id": "696a9631",
   "metadata": {},
   "outputs": [],
   "source": [
    "from sklearn.metrics import mean_squared_error,r2_score"
   ]
  },
  {
   "cell_type": "code",
   "execution_count": 25,
   "id": "d5211d8c",
   "metadata": {},
   "outputs": [
    {
     "name": "stdout",
     "output_type": "stream",
     "text": [
      "The mean squred error in the predicted value is: 4326906256.829671\n",
      "The r squared value is: 0.36759313425902185\n"
     ]
    }
   ],
   "source": [
    "print('The mean squred error in the predicted value is:',mean_squared_error(y_test,predict1))\n",
    "print('The r squared value is:',r2_score(y_test,predict1))"
   ]
  },
  {
   "cell_type": "markdown",
   "id": "daa03f2f",
   "metadata": {},
   "source": [
    "## Predicted value 0f  2022 model grand i10"
   ]
  },
  {
   "cell_type": "code",
   "execution_count": 30,
   "id": "43b8a316",
   "metadata": {},
   "outputs": [
    {
     "name": "stdout",
     "output_type": "stream",
     "text": [
      "The expected price for 2022 model i10 is  [743601.61594504]\n"
     ]
    },
    {
     "name": "stderr",
     "output_type": "stream",
     "text": [
      "C:\\Users\\sneha kannan\\anaconda3\\lib\\site-packages\\sklearn\\base.py:450: UserWarning: X does not have valid feature names, but LinearRegression was fitted with feature names\n",
      "  warnings.warn(\n"
     ]
    }
   ],
   "source": [
    "pre_d=lr.predict([[2022]])\n",
    "print(\"The expected price for 2022 model i10 is \",pre_d)"
   ]
  },
  {
   "cell_type": "markdown",
   "id": "39aee5df",
   "metadata": {},
   "source": [
    "## Lasso Regression model"
   ]
  },
  {
   "cell_type": "code",
   "execution_count": 31,
   "id": "472d1b1d",
   "metadata": {},
   "outputs": [],
   "source": [
    "from sklearn.linear_model import Lasso"
   ]
  },
  {
   "cell_type": "code",
   "execution_count": 34,
   "id": "4e5b085d",
   "metadata": {},
   "outputs": [],
   "source": [
    "lasso = Lasso(alpha = 1)\n",
    "lasso.fit(x_train, y_train)\n",
    "predict2 = lasso.predict(x_test)"
   ]
  },
  {
   "cell_type": "code",
   "execution_count": 35,
   "id": "f23ee149",
   "metadata": {},
   "outputs": [
    {
     "name": "stdout",
     "output_type": "stream",
     "text": [
      "The mean squred error in the predicted value is: 4326859771.015669\n",
      "The r squared value is: 0.3675999284778446\n"
     ]
    }
   ],
   "source": [
    "print('The mean squred error in the predicted value is:',mean_squared_error(y_test,predict2))\n",
    "print('The r squared value is:',r2_score(y_test,predict2))"
   ]
  },
  {
   "cell_type": "markdown",
   "id": "c7a0aa2a",
   "metadata": {},
   "source": [
    "## Predicted value 0f second hand 2022 model grand i10"
   ]
  },
  {
   "cell_type": "code",
   "execution_count": 36,
   "id": "7c5bf245",
   "metadata": {},
   "outputs": [
    {
     "name": "stdout",
     "output_type": "stream",
     "text": [
      "The expected price for 2022 model i10 is  [743599.37427144]\n"
     ]
    },
    {
     "name": "stderr",
     "output_type": "stream",
     "text": [
      "C:\\Users\\sneha kannan\\anaconda3\\lib\\site-packages\\sklearn\\base.py:450: UserWarning: X does not have valid feature names, but Lasso was fitted with feature names\n",
      "  warnings.warn(\n"
     ]
    }
   ],
   "source": [
    "pre_dl=lasso.predict([[2022]])\n",
    "print(\"The expected price for 2022 model i10 is \",pre_dl)"
   ]
  },
  {
   "cell_type": "markdown",
   "id": "0cd42a8d",
   "metadata": {},
   "source": [
    "#### For this dataset Linear Regression model and Lasso regression model have almost same values."
   ]
  },
  {
   "cell_type": "code",
   "execution_count": null,
   "id": "81f12590",
   "metadata": {},
   "outputs": [],
   "source": []
  }
 ],
 "metadata": {
  "kernelspec": {
   "display_name": "Python 3 (ipykernel)",
   "language": "python",
   "name": "python3"
  },
  "language_info": {
   "codemirror_mode": {
    "name": "ipython",
    "version": 3
   },
   "file_extension": ".py",
   "mimetype": "text/x-python",
   "name": "python",
   "nbconvert_exporter": "python",
   "pygments_lexer": "ipython3",
   "version": "3.9.12"
  }
 },
 "nbformat": 4,
 "nbformat_minor": 5
}
